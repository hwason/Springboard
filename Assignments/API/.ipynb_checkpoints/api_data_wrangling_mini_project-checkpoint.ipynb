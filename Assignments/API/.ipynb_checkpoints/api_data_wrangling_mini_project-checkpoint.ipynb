{
 "cells": [
  {
   "cell_type": "markdown",
   "metadata": {},
   "source": [
    "This exercise will require you to pull some data from the Quandl API. Qaundl is currently the most widely used aggregator of financial market data."
   ]
  },
  {
   "cell_type": "markdown",
   "metadata": {},
   "source": [
    "As a first step, you will need to register a free account on the http://www.quandl.com website."
   ]
  },
  {
   "cell_type": "markdown",
   "metadata": {},
   "source": [
    "After you register, you will be provided with a unique API key, that you should store:"
   ]
  },
  {
   "cell_type": "code",
   "execution_count": 1,
   "metadata": {},
   "outputs": [],
   "source": [
    "# Store the API key as a string - according to PEP8, \n",
    "# constants are always named in all upper case\n",
    "API_KEY = ''"
   ]
  },
  {
   "cell_type": "markdown",
   "metadata": {},
   "source": [
    "Qaundl has a large number of data sources, but, unfortunately, most of them require a Premium subscription. Still, there are also a good number of free datasets."
   ]
  },
  {
   "cell_type": "markdown",
   "metadata": {},
   "source": [
    "For this mini project, we will focus on equities data from the Frankfurt Stock Exchange (FSE), which is available for free. We'll try and analyze the stock prices of a company called Carl Zeiss Meditec, which manufactures tools for eye examinations, as well as medical lasers for laser eye surgery: https://www.zeiss.com/meditec/int/home.html. The company is listed under the stock ticker AFX_X."
   ]
  },
  {
   "cell_type": "markdown",
   "metadata": {},
   "source": [
    "You can find the detailed Quandl API instructions here: https://docs.quandl.com/docs/time-series"
   ]
  },
  {
   "cell_type": "markdown",
   "metadata": {},
   "source": [
    "While there is a dedicated Python package for connecting to the Quandl API, we would prefer that you use the *requests* package, which can be easily downloaded using *pip* or *conda*. You can find the documentation for the package here: http://docs.python-requests.org/en/master/ "
   ]
  },
  {
   "cell_type": "markdown",
   "metadata": {},
   "source": [
    "Finally, apart from the *requests* package, you are encouraged to not use any third party Python packages, such as *pandas*, and instead focus on what's available in the Python Standard Library (the *collections* module might come in handy: https://pymotw.com/3/collections/ ).\n",
    "Also, since you won't have access to DataFrames, you are encouraged to us Python's native data structures - preferably dictionaries, though some questions can also be answered using lists.\n",
    "You can read more on these data structures here: https://docs.python.org/3/tutorial/datastructures.html"
   ]
  },
  {
   "cell_type": "markdown",
   "metadata": {},
   "source": [
    "Keep in mind that the JSON responses you will be getting from the API map almost one-to-one to Python's dictionaries. Unfortunately, they can be very nested, so make sure you read up on indexing dictionaries in the documentation provided above."
   ]
  },
  {
   "cell_type": "code",
   "execution_count": 2,
   "metadata": {},
   "outputs": [],
   "source": [
    "# First, import the relevant modules\n",
    "import requests\n",
    "import numpy as np"
   ]
  },
  {
   "cell_type": "code",
   "execution_count": 3,
   "metadata": {},
   "outputs": [],
   "source": [
    "# Now, call the Quandl API and pull out a small sample of the data (only one day) \n",
    "# to get a glimpse into the JSON structure that will be returned\n",
    "url = (\"https://www.quandl.com/api/v3/datasets/FSE/AFX_X/data.json?start_date=2017-01-02&\\\n",
    "end_date=2017-01-02&api_key=\" + API_KEY)\n",
    "r = requests.get(url)"
   ]
  },
  {
   "cell_type": "code",
   "execution_count": 4,
   "metadata": {},
   "outputs": [
    {
     "data": {
      "text/plain": [
       "{'dataset_data': {'limit': None,\n",
       "  'transform': None,\n",
       "  'column_index': None,\n",
       "  'column_names': ['Date',\n",
       "   'Open',\n",
       "   'High',\n",
       "   'Low',\n",
       "   'Close',\n",
       "   'Change',\n",
       "   'Traded Volume',\n",
       "   'Turnover',\n",
       "   'Last Price of the Day',\n",
       "   'Daily Traded Units',\n",
       "   'Daily Turnover'],\n",
       "  'start_date': '2017-01-02',\n",
       "  'end_date': '2017-01-02',\n",
       "  'frequency': 'daily',\n",
       "  'data': [['2017-01-02',\n",
       "    34.99,\n",
       "    35.94,\n",
       "    34.99,\n",
       "    35.8,\n",
       "    None,\n",
       "    44700.0,\n",
       "    1590561.0,\n",
       "    None,\n",
       "    None,\n",
       "    None]],\n",
       "  'collapse': None,\n",
       "  'order': None}}"
      ]
     },
     "execution_count": 4,
     "metadata": {},
     "output_type": "execute_result"
    }
   ],
   "source": [
    "# Inspect the JSON structure of the object you created, and take note of how nested it is,\n",
    "# as well as the overall structure\n",
    "json_data = r.json()\n",
    "json_data"
   ]
  },
  {
   "cell_type": "markdown",
   "metadata": {},
   "source": [
    "These are your tasks for this mini project:\n",
    "\n",
    "1. Collect data from the Frankfurt Stock Exchange, for the ticker AFX_X, for the whole year 2017 (keep in mind that the date format is YYYY-MM-DD).\n",
    "2. Convert the returned JSON object into a Python dictionary.\n",
    "3. Calculate what the highest and lowest opening prices were for the stock in this period.\n",
    "4. What was the largest change in any one day (based on High and Low price)?\n",
    "5. What was the largest change between any two days (based on Closing Price)?\n",
    "6. What was the average daily trading volume during this year?\n",
    "7. (Optional) What was the median trading volume during this year. (Note: you may need to implement your own function for calculating the median.)"
   ]
  },
  {
   "cell_type": "code",
   "execution_count": 5,
   "metadata": {},
   "outputs": [],
   "source": [
    "# Collect data from Frankfurt Stock Exchange for the year 2017\n",
    "url = (\"https://www.quandl.com/api/v3/datasets/FSE/AFX_X/data.json?start_date=2017-01-01&\\\n",
    "end_date=2017-12-31&order=asc&api_key=\" + API_KEY)\n",
    "r = requests.get(url)"
   ]
  },
  {
   "cell_type": "code",
   "execution_count": 6,
   "metadata": {},
   "outputs": [
    {
     "data": {
      "text/plain": [
       "dict"
      ]
     },
     "execution_count": 6,
     "metadata": {},
     "output_type": "execute_result"
    }
   ],
   "source": [
    "# Convert JSON object into a Python dictionary\n",
    "json_data = r.json()\n",
    "type(json_data)"
   ]
  },
  {
   "cell_type": "code",
   "execution_count": 7,
   "metadata": {},
   "outputs": [
    {
     "name": "stdout",
     "output_type": "stream",
     "text": [
      "Keys in level 1: ['dataset_data']\n",
      "Keys in level 2: ['limit', 'transform', 'column_index', 'column_names', 'start_date', 'end_date', 'frequency', 'data', 'collapse', 'order']\n"
     ]
    }
   ],
   "source": [
    "# Print keys of nested dictionary\n",
    "keys_level1 = []\n",
    "keys_level2 = []\n",
    "\n",
    "for k, v in json_data.items():\n",
    "    keys_level1.append(k)\n",
    "    \n",
    "    for k1, v1 in v.items():\n",
    "        keys_level2.append(k1)\n",
    "    \n",
    "print(\"Keys in level 1:\", keys_level1)\n",
    "print(\"Keys in level 2:\", keys_level2)"
   ]
  },
  {
   "cell_type": "code",
   "execution_count": 8,
   "metadata": {},
   "outputs": [
    {
     "data": {
      "text/plain": [
       "['Date',\n",
       " 'Open',\n",
       " 'High',\n",
       " 'Low',\n",
       " 'Close',\n",
       " 'Change',\n",
       " 'Traded Volume',\n",
       " 'Turnover',\n",
       " 'Last Price of the Day',\n",
       " 'Daily Traded Units',\n",
       " 'Daily Turnover']"
      ]
     },
     "execution_count": 8,
     "metadata": {},
     "output_type": "execute_result"
    }
   ],
   "source": [
    "# Extract column names\n",
    "json_data[\"dataset_data\"][\"column_names\"]"
   ]
  },
  {
   "cell_type": "code",
   "execution_count": 9,
   "metadata": {},
   "outputs": [
    {
     "name": "stdout",
     "output_type": "stream",
     "text": [
      "Highest opening price for the stock: 53.110\n",
      "Lowest opening price for the stock: 34.000\n"
     ]
    }
   ],
   "source": [
    "# Calculate highest and lowest opening prices for the stock\n",
    "price_open = np.array([val[1] for val in json_data[\"dataset_data\"][\"data\"]\\\n",
    "                      if str(val[1])!=\"None\"])\n",
    "print(\"Highest opening price for the stock: %.3f\" %(max(price_open)))\n",
    "print(\"Lowest opening price for the stock: %.3f\" %(min(price_open)))"
   ]
  },
  {
   "cell_type": "code",
   "execution_count": 10,
   "metadata": {},
   "outputs": [
    {
     "name": "stdout",
     "output_type": "stream",
     "text": [
      "Largest change in any one day for the stock: 2.810\n"
     ]
    }
   ],
   "source": [
    "# Largest change in any one day (based on High and Low price)\n",
    "price_high = np.array([val[2] for val in json_data[\"dataset_data\"][\"data\"]])\n",
    "price_low = np.array([val[3] for val in json_data[\"dataset_data\"][\"data\"]])\n",
    "print(\"Largest change in any one day for the stock: %.3f\"\\\n",
    "      %(max(price_high - price_low)))"
   ]
  },
  {
   "cell_type": "code",
   "execution_count": 11,
   "metadata": {},
   "outputs": [
    {
     "name": "stdout",
     "output_type": "stream",
     "text": [
      "Largest change between any two days for the stock: 2.560\n"
     ]
    }
   ],
   "source": [
    "# Largest change between any two days (based on Closing Price)\n",
    "price_close = np.array([val[4] for val in json_data[\"dataset_data\"][\"data\"]])\n",
    "print(\"Largest change between any two days for the stock: %.3f\"\\\n",
    "      %(max(abs(np.diff(price_close)))))"
   ]
  },
  {
   "cell_type": "code",
   "execution_count": 12,
   "metadata": {},
   "outputs": [
    {
     "name": "stdout",
     "output_type": "stream",
     "text": [
      "Average daily trading volume for the stock: 89124.337\n"
     ]
    }
   ],
   "source": [
    "# Average daily trading volume during the year 2017\n",
    "trading_volume = np.array([val[6] for val in json_data[\"dataset_data\"][\"data\"]])\n",
    "print(\"Average daily trading volume for the stock: %.3f\"\\\n",
    "      %(np.mean(trading_volume)))"
   ]
  },
  {
   "cell_type": "code",
   "execution_count": 13,
   "metadata": {},
   "outputs": [
    {
     "name": "stdout",
     "output_type": "stream",
     "text": [
      "Median trading volume during the year 2017: 76286.000\n"
     ]
    }
   ],
   "source": [
    "# Compute median trading volume during the year 2017\n",
    "\n",
    "# Define a function to compute median value\n",
    "def trade_vol_median(x):\n",
    "    \"\"\"Compute median trading volume\n",
    "    \n",
    "    Parameters\n",
    "    ----------\n",
    "    x: input numpy array\n",
    "    \n",
    "    Returns\n",
    "    -------\n",
    "    median_val: median value\n",
    "    \"\"\"\n",
    "    \n",
    "    # Median value if number of input values is odd\n",
    "    if len(x)%2:\n",
    "        median_loc = round(len(x)/2)\n",
    "        median_val = np.sort(x)[median_loc-1]\n",
    "        \n",
    "    # Median value if number of input values is even\n",
    "    else:\n",
    "        loc = np.int(len(x)/2)\n",
    "        x_sorted = np.sort(x)\n",
    "        median_val = (x_sorted[loc-1] + x_sorted[loc])/2\n",
    "\n",
    "    return median_val\n",
    "\n",
    "# Median trading volume during the year 2017\n",
    "print(\"Median trading volume during the year 2017: %.3f\" %(trade_vol_median(trading_volume)))"
   ]
  },
  {
   "cell_type": "code",
   "execution_count": 14,
   "metadata": {},
   "outputs": [
    {
     "name": "stdout",
     "output_type": "stream",
     "text": [
      "Difference between median trading volume computed using the 'trade_vol_median' function and  the 'np.median' function is: 0.000\n"
     ]
    }
   ],
   "source": [
    "# Check if median value is correct\n",
    "print(\"Difference between median trading volume computed using \\\n",
    "the 'trade_vol_median' function and  the 'np.median' function is: %.3f\" %\\\n",
    "      (trade_vol_median(trading_volume) - np.median(trading_volume)))"
   ]
  }
 ],
 "metadata": {
  "kernelspec": {
   "display_name": "Python 3",
   "language": "python",
   "name": "python3"
  },
  "language_info": {
   "codemirror_mode": {
    "name": "ipython",
    "version": 3
   },
   "file_extension": ".py",
   "mimetype": "text/x-python",
   "name": "python",
   "nbconvert_exporter": "python",
   "pygments_lexer": "ipython3",
   "version": "3.8.3"
  }
 },
 "nbformat": 4,
 "nbformat_minor": 2
}
