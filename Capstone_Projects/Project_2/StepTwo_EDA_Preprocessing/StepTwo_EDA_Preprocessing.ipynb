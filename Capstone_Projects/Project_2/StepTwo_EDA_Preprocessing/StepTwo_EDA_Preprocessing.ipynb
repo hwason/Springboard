{
 "cells": [
  {
   "cell_type": "markdown",
   "metadata": {},
   "source": [
    "# Exploratory data analysis and preprocessing"
   ]
  },
  {
   "cell_type": "markdown",
   "metadata": {},
   "source": [
    "## Contents<a id='Contents'></a>\n",
    "* [1 Introduction](#1_Introduction)\n",
    "* [2 Imports](#2_Imports)\n",
    "* [3 Load data](#3_Load_data)\n",
    "    * [3.1 Distribution of feature values](#3.1_Distribution_of_feature_values)\n",
    "    * [3.2 Cleaning feature values](#3.2_Cleaning_feature_values)\n",
    "    * [3.3 Save data](#3.3_Save_data)\n",
    "* [4 Summary](#4_Summary)"
   ]
  },
  {
   "cell_type": "markdown",
   "metadata": {},
   "source": [
    "## 1 Introduction<a id='1_Introduction'></a>"
   ]
  },
  {
   "cell_type": "markdown",
   "metadata": {},
   "source": [
    "Using a real dataset from the U.S. Small Business Administration (SBA), this data science project addresses the following questions:\n",
    "* How can machine learning help in making decisions about whether a loan should be approved or denied by the U.S. SBA? \n",
    "* How do the different machine learning algorithms compare in terms of predictive ability, model complexity and computational intensity?\n",
    "* What are the important data features that affect a model's performance?\n",
    "* If necessary, what other data should be collected to improve a model's performance and help in accurate decision making?\n",
    "\n",
    "This notebook consists of the exploratory data analysis and preprocessing of the clean dataset saved at the end of the \"StepOne_DataWrangling\" notebook."
   ]
  },
  {
   "cell_type": "markdown",
   "metadata": {},
   "source": [
    "## 2 Imports<a id='2_Imports'></a>"
   ]
  },
  {
   "cell_type": "code",
   "execution_count": 1,
   "metadata": {},
   "outputs": [],
   "source": [
    "# Import required libraries and functions\n",
    "import os\n",
    "import numpy as np\n",
    "import pandas as pd\n",
    "import matplotlib.pyplot as plt\n",
    "import seaborn as sns\n",
    "import time\n",
    "from scipy.stats import ttest_ind\n",
    "from scipy.stats import norm\n",
    "from scipy.stats import chi2_contingency\n",
    "from scipy.stats import f_oneway\n",
    "from scipy.stats import mannwhitneyu"
   ]
  },
  {
   "cell_type": "markdown",
   "metadata": {},
   "source": [
    "## 3 Load data<a id='3_Load_data'></a>"
   ]
  },
  {
   "cell_type": "code",
   "execution_count": 2,
   "metadata": {},
   "outputs": [
    {
     "data": {
      "text/html": [
       "<div>\n",
       "<style scoped>\n",
       "    .dataframe tbody tr th:only-of-type {\n",
       "        vertical-align: middle;\n",
       "    }\n",
       "\n",
       "    .dataframe tbody tr th {\n",
       "        vertical-align: top;\n",
       "    }\n",
       "\n",
       "    .dataframe thead th {\n",
       "        text-align: right;\n",
       "    }\n",
       "</style>\n",
       "<table border=\"1\" class=\"dataframe\">\n",
       "  <thead>\n",
       "    <tr style=\"text-align: right;\">\n",
       "      <th></th>\n",
       "      <th>0</th>\n",
       "      <th>1</th>\n",
       "      <th>2</th>\n",
       "      <th>3</th>\n",
       "      <th>4</th>\n",
       "    </tr>\n",
       "  </thead>\n",
       "  <tbody>\n",
       "    <tr>\n",
       "      <th>LoanNr_ChkDgt</th>\n",
       "      <td>1000506000</td>\n",
       "      <td>1000685001</td>\n",
       "      <td>1000715008</td>\n",
       "      <td>1000746002</td>\n",
       "      <td>1000754002</td>\n",
       "    </tr>\n",
       "    <tr>\n",
       "      <th>Name</th>\n",
       "      <td>WEYLAND CORPORATION</td>\n",
       "      <td>ANYWHERE SPORTS PRODUCTIONS</td>\n",
       "      <td>John Dailey</td>\n",
       "      <td>ANGEL</td>\n",
       "      <td>MCCRANEY, INC.</td>\n",
       "    </tr>\n",
       "    <tr>\n",
       "      <th>ApprovalDate</th>\n",
       "      <td>7-Feb-06</td>\n",
       "      <td>25-Mar-97</td>\n",
       "      <td>26-Mar-97</td>\n",
       "      <td>7-Feb-06</td>\n",
       "      <td>28-Feb-97</td>\n",
       "    </tr>\n",
       "    <tr>\n",
       "      <th>ApprovalFY</th>\n",
       "      <td>2006</td>\n",
       "      <td>1997</td>\n",
       "      <td>1997</td>\n",
       "      <td>2006</td>\n",
       "      <td>1997</td>\n",
       "    </tr>\n",
       "    <tr>\n",
       "      <th>Term</th>\n",
       "      <td>83</td>\n",
       "      <td>84</td>\n",
       "      <td>84</td>\n",
       "      <td>36</td>\n",
       "      <td>300</td>\n",
       "    </tr>\n",
       "    <tr>\n",
       "      <th>NoEmp</th>\n",
       "      <td>18</td>\n",
       "      <td>6</td>\n",
       "      <td>2</td>\n",
       "      <td>20</td>\n",
       "      <td>50</td>\n",
       "    </tr>\n",
       "    <tr>\n",
       "      <th>NewExist</th>\n",
       "      <td>2</td>\n",
       "      <td>1</td>\n",
       "      <td>1</td>\n",
       "      <td>2</td>\n",
       "      <td>1</td>\n",
       "    </tr>\n",
       "    <tr>\n",
       "      <th>CreateJob</th>\n",
       "      <td>5</td>\n",
       "      <td>0</td>\n",
       "      <td>0</td>\n",
       "      <td>20</td>\n",
       "      <td>0</td>\n",
       "    </tr>\n",
       "    <tr>\n",
       "      <th>RetainedJob</th>\n",
       "      <td>23</td>\n",
       "      <td>0</td>\n",
       "      <td>0</td>\n",
       "      <td>20</td>\n",
       "      <td>0</td>\n",
       "    </tr>\n",
       "    <tr>\n",
       "      <th>UrbanRural</th>\n",
       "      <td>1</td>\n",
       "      <td>0</td>\n",
       "      <td>0</td>\n",
       "      <td>1</td>\n",
       "      <td>0</td>\n",
       "    </tr>\n",
       "    <tr>\n",
       "      <th>ChgOffDate</th>\n",
       "      <td>0</td>\n",
       "      <td>0</td>\n",
       "      <td>0</td>\n",
       "      <td>0</td>\n",
       "      <td>0</td>\n",
       "    </tr>\n",
       "    <tr>\n",
       "      <th>DisbursementDate</th>\n",
       "      <td>28-Feb-06</td>\n",
       "      <td>31-Oct-97</td>\n",
       "      <td>31-May-99</td>\n",
       "      <td>28-Feb-06</td>\n",
       "      <td>31-Mar-97</td>\n",
       "    </tr>\n",
       "    <tr>\n",
       "      <th>DisbursementGross</th>\n",
       "      <td>438541</td>\n",
       "      <td>30570</td>\n",
       "      <td>15000</td>\n",
       "      <td>35000</td>\n",
       "      <td>745000</td>\n",
       "    </tr>\n",
       "    <tr>\n",
       "      <th>BalanceGross</th>\n",
       "      <td>0</td>\n",
       "      <td>0</td>\n",
       "      <td>0</td>\n",
       "      <td>0</td>\n",
       "      <td>0</td>\n",
       "    </tr>\n",
       "    <tr>\n",
       "      <th>ChgOffPrinGr</th>\n",
       "      <td>0</td>\n",
       "      <td>0</td>\n",
       "      <td>0</td>\n",
       "      <td>0</td>\n",
       "      <td>0</td>\n",
       "    </tr>\n",
       "    <tr>\n",
       "      <th>GrAppv</th>\n",
       "      <td>100000</td>\n",
       "      <td>25000</td>\n",
       "      <td>15000</td>\n",
       "      <td>35000</td>\n",
       "      <td>745000</td>\n",
       "    </tr>\n",
       "    <tr>\n",
       "      <th>SBA_Appv</th>\n",
       "      <td>50000</td>\n",
       "      <td>12500</td>\n",
       "      <td>7500</td>\n",
       "      <td>17500</td>\n",
       "      <td>558750</td>\n",
       "    </tr>\n",
       "    <tr>\n",
       "      <th>Sector</th>\n",
       "      <td>61</td>\n",
       "      <td>0</td>\n",
       "      <td>0</td>\n",
       "      <td>31</td>\n",
       "      <td>0</td>\n",
       "    </tr>\n",
       "    <tr>\n",
       "      <th>Default</th>\n",
       "      <td>0</td>\n",
       "      <td>0</td>\n",
       "      <td>0</td>\n",
       "      <td>0</td>\n",
       "      <td>0</td>\n",
       "    </tr>\n",
       "  </tbody>\n",
       "</table>\n",
       "</div>"
      ],
      "text/plain": [
       "                                     0                            1  \\\n",
       "LoanNr_ChkDgt               1000506000                   1000685001   \n",
       "Name               WEYLAND CORPORATION  ANYWHERE SPORTS PRODUCTIONS   \n",
       "ApprovalDate                  7-Feb-06                    25-Mar-97   \n",
       "ApprovalFY                        2006                         1997   \n",
       "Term                                83                           84   \n",
       "NoEmp                               18                            6   \n",
       "NewExist                             2                            1   \n",
       "CreateJob                            5                            0   \n",
       "RetainedJob                         23                            0   \n",
       "UrbanRural                           1                            0   \n",
       "ChgOffDate                           0                            0   \n",
       "DisbursementDate             28-Feb-06                    31-Oct-97   \n",
       "DisbursementGross               438541                        30570   \n",
       "BalanceGross                         0                            0   \n",
       "ChgOffPrinGr                         0                            0   \n",
       "GrAppv                          100000                        25000   \n",
       "SBA_Appv                         50000                        12500   \n",
       "Sector                              61                            0   \n",
       "Default                              0                            0   \n",
       "\n",
       "                             2           3               4  \n",
       "LoanNr_ChkDgt       1000715008  1000746002      1000754002  \n",
       "Name               John Dailey       ANGEL  MCCRANEY, INC.  \n",
       "ApprovalDate         26-Mar-97    7-Feb-06       28-Feb-97  \n",
       "ApprovalFY                1997        2006            1997  \n",
       "Term                        84          36             300  \n",
       "NoEmp                        2          20              50  \n",
       "NewExist                     1           2               1  \n",
       "CreateJob                    0          20               0  \n",
       "RetainedJob                  0          20               0  \n",
       "UrbanRural                   0           1               0  \n",
       "ChgOffDate                   0           0               0  \n",
       "DisbursementDate     31-May-99   28-Feb-06       31-Mar-97  \n",
       "DisbursementGross        15000       35000          745000  \n",
       "BalanceGross                 0           0               0  \n",
       "ChgOffPrinGr                 0           0               0  \n",
       "GrAppv                   15000       35000          745000  \n",
       "SBA_Appv                  7500       17500          558750  \n",
       "Sector                       0          31               0  \n",
       "Default                      0           0               0  "
      ]
     },
     "execution_count": 2,
     "metadata": {},
     "output_type": "execute_result"
    }
   ],
   "source": [
    "# Load data for exploratory data analysis and preprocessing\n",
    "dfCA = pd.read_csv('../data_models/SBAnational_CA_clean.csv')\n",
    "dfCA.head().T"
   ]
  },
  {
   "cell_type": "code",
   "execution_count": 3,
   "metadata": {},
   "outputs": [
    {
     "data": {
      "text/plain": [
       "(130475, 19)"
      ]
     },
     "execution_count": 3,
     "metadata": {},
     "output_type": "execute_result"
    }
   ],
   "source": [
    "# Check shape of dataframe\n",
    "dfCA.shape"
   ]
  },
  {
   "cell_type": "markdown",
   "metadata": {},
   "source": [
    "### 3.1 Distribution of feature values<a id='3.1_Distribution_of_feature_values'></a>"
   ]
  },
  {
   "cell_type": "markdown",
   "metadata": {},
   "source": [
    "Plot histograms to see the distribution of each of the numeric features. This also helps in checking for any (obvious) outliers that might need further investigation."
   ]
  },
  {
   "cell_type": "code",
   "execution_count": 5,
   "metadata": {},
   "outputs": [
    {
     "data": {
      "image/png": "[encoded data removed]",
      "text/plain": [
       "<Figure size 1080x720 with 12 Axes>"
      ]
     },
     "metadata": {
      "needs_background": "light"
     },
     "output_type": "display_data"
    }
   ],
   "source": [
    "# Plot histograms of each of the numeric features\n",
    "dfCA.drop(['Default', 'LoanNr_ChkDgt', 'NewExist', 'Sector', 'UrbanRural'],\n",
    "          axis=1).hist(figsize=(15,10))\n",
    "plt.subplots_adjust(hspace=0.5);"
   ]
  },
  {
   "cell_type": "markdown",
   "metadata": {},
   "source": [
    "Apart from the features \"ApprovalFY\" and \"Term\", all other features have little to no variance with distributions skewed mostly to the low end. The feature \"BalanceGross\" seems to have only zero values. The features \"ChgOffPrinGr\", \"CreateJob\", \"NoEmp\", and \"RetainedJob\" have values mostly near zero with few big outliers. The features \"DisbursementGross\", \"GrAppv\", and \"SBA_Appv\" have very similar distributions with most values clustered near the low end and a few outliers."
   ]
  },
  {
   "cell_type": "markdown",
   "metadata": {},
   "source": [
    "### 3.2 Cleaning feature values<a id='3.2_Cleaning_feature_values'></a>\n",
    "The following section involves cleaning of the feature values, wherever necessary. Each feature is analyzed by plotting a histogram, a boxplot for the default and non-default classes, and a statistical test to see how siginificant is the difference in the distributions of default and non-default classes. The statistical tests also help in getting an overview of the more important and less important features.\n",
    "\n",
    "For features/variables with Gaussian (or normal) distribution, parametric tests such as Student's T tests and ANOVA tests can help in determining whether two data samples have the same or different distributions. For features that do not have a Gaussian distribution, nonparametric tests such as Mann-Whitney U tests, chi-squared tests, etc., can be used."
   ]
  },
  {
   "cell_type": "markdown",
   "metadata": {},
   "source": [
    "**Feature: BalanceGross**"
   ]
  },
  {
   "cell_type": "code",
   "execution_count": 6,
   "metadata": {},
   "outputs": [
    {
     "name": "stdout",
     "output_type": "stream",
     "text": [
      "count    130475.0\n",
      "mean          0.0\n",
      "std           0.0\n",
      "min           0.0\n",
      "25%           0.0\n",
      "50%           0.0\n",
      "75%           0.0\n",
      "max           0.0\n",
      "Name: BalanceGross, dtype: float64\n"
     ]
    },
    {
     "data": {
      "text/plain": [
       "0.0    130475\n",
       "Name: BalanceGross, dtype: int64"
      ]
     },
     "execution_count": 6,
     "metadata": {},
     "output_type": "execute_result"
    }
   ],
   "source": [
    "# Display statistical information of the \"BalanceGross\" feature (Gross amount outstanding)\n",
    "print(dfCA[\"BalanceGross\"].describe())\n",
    "dfCA[\"BalanceGross\"].value_counts()"
   ]
  },
  {
   "cell_type": "markdown",
   "metadata": {},
   "source": [
    "There is no information in this column. Hence, it is removed from the dataframe."
   ]
  },
  {
   "cell_type": "code",
   "execution_count": 7,
   "metadata": {},
   "outputs": [],
   "source": [
    "# Remove the \"BalanceGross\" feature\n",
    "dfCA = dfCA.drop('BalanceGross', axis=1);"
   ]
  },
  {
   "cell_type": "markdown",
   "metadata": {},
   "source": [
    "**NOTE:** Logarithmic scaling is a way to scale numeric input features of a dataset, especially if some of the features have skewed distributions. As shown below, features with highly skewed distributions are scaled logarithmically."
   ]
  },
  {
   "cell_type": "markdown",
   "metadata": {},
   "source": [
    "**Feature: ChgOffPrinGr**"
   ]
  },
  {
   "cell_type": "code",
   "execution_count": 9,
   "metadata": {},
   "outputs": [
    {
     "name": "stdout",
     "output_type": "stream",
     "text": [
      "count    1.304750e+05\n",
      "mean     1.386899e+04\n",
      "std      6.843957e+04\n",
      "min      0.000000e+00\n",
      "25%      0.000000e+00\n",
      "50%      0.000000e+00\n",
      "75%      0.000000e+00\n",
      "max      2.157499e+06\n",
      "Name: ChgOffPrinGr, dtype: float64\n"
     ]
    },
    {
     "data": {
      "image/png": "[encoded data removed]",
      "text/plain": [
       "<Figure size 864x360 with 2 Axes>"
      ]
     },
     "metadata": {
      "needs_background": "light"
     },
     "output_type": "display_data"
    },
    {
     "name": "stdout",
     "output_type": "stream",
     "text": [
      "Percentage of zero entries in \"ChgOffPrinGr\": 80.99%\n"
     ]
    }
   ],
   "source": [
    "# Display statistical information of the feature \"ChgOffPrinGr\" (charged-off amount)\n",
    "print(dfCA[\"ChgOffPrinGr\"].describe())\n",
    "\n",
    "# Plot histogram of true vs. log values \n",
    "fig, axes = plt.subplots(nrows=1, ncols=2)\n",
    "plt.rcParams['figure.figsize']=[12,5]\n",
    "dfCA['ChgOffPrinGr'].plot(kind='hist', bins=30, ax=axes[0])\n",
    "plt.xlabel('Charged-off amount')\n",
    "np.log10(dfCA['ChgOffPrinGr']+1).plot(kind='hist', bins=30,\n",
    "                                      ax=axes[1]).set_xlabel(\"Log10['ChgOffPrinGr']\")\n",
    "plt.subplots_adjust(wspace=0.5);\n",
    "plt.show()\n",
    "\n",
    "# Print percentage of zero entries\n",
    "print('Percentage of zero entries in \"ChgOffPrinGr\": ' + \n",
    "      str(\"{:.2f}\".format((dfCA['ChgOffPrinGr']==0).mean()*100)) + \"%\")"
   ]
  },
  {
   "cell_type": "markdown",
   "metadata": {},
   "source": [
    "Ignoring the large number (about 81%) of zero values in \"ChgOffPrinGr\", the histogram for the logarithmically-scaled values is not skewed in comparison to the histogram of the original values. The reason for about 81% of zero values in \"ChgOffPrinGr\" is due to the fact that the dataset has more instances of loans paid in full than of defaulted loans. Hence, the corresponding charged-off amount for the loans paid in full is zero."
   ]
  },
  {
   "cell_type": "code",
   "execution_count": 11,
   "metadata": {},
   "outputs": [
    {
     "data": {
      "text/html": [
       "<div>\n",
       "<style scoped>\n",
       "    .dataframe tbody tr th:only-of-type {\n",
       "        vertical-align: middle;\n",
       "    }\n",
       "\n",
       "    .dataframe tbody tr th {\n",
       "        vertical-align: top;\n",
       "    }\n",
       "\n",
       "    .dataframe thead th {\n",
       "        text-align: right;\n",
       "    }\n",
       "</style>\n",
       "<table border=\"1\" class=\"dataframe\">\n",
       "  <thead>\n",
       "    <tr style=\"text-align: right;\">\n",
       "      <th></th>\n",
       "      <th>mean</th>\n",
       "      <th>std</th>\n",
       "    </tr>\n",
       "    <tr>\n",
       "      <th>Default</th>\n",
       "      <th></th>\n",
       "      <th></th>\n",
       "    </tr>\n",
       "  </thead>\n",
       "  <tbody>\n",
       "    <tr>\n",
       "      <th>0</th>\n",
       "      <td>0.000000</td>\n",
       "      <td>0.000000</td>\n",
       "    </tr>\n",
       "    <tr>\n",
       "      <th>1</th>\n",
       "      <td>4.473135</td>\n",
       "      <td>0.617426</td>\n",
       "    </tr>\n",
       "  </tbody>\n",
       "</table>\n",
       "</div>"
      ],
      "text/plain": [
       "             mean       std\n",
       "Default                    \n",
       "0        0.000000  0.000000\n",
       "1        4.473135  0.617426"
      ]
     },
     "execution_count": 11,
     "metadata": {},
     "output_type": "execute_result"
    },
    {
     "data": {
      "image/png": "[encoded data removed]",
      "text/plain": [
       "<Figure size 576x432 with 1 Axes>"
      ]
     },
     "metadata": {
      "needs_background": "light"
     },
     "output_type": "display_data"
    }
   ],
   "source": [
    "# Boxplot\n",
    "plt.rcParams['figure.figsize']=[8,6]\n",
    "dfCA = dfCA.assign(ChgOffPrinGr_log=pd.Series(np.log10(dfCA['ChgOffPrinGr'] + 1)))\n",
    "dfCA.boxplot(column=['ChgOffPrinGr_log'], by='Default')\n",
    "pd.DataFrame(dfCA.groupby(['Default'])['ChgOffPrinGr_log'].describe().loc[:,['mean','std']])"
   ]
  },
  {
   "cell_type": "markdown",
   "metadata": {},
   "source": [
    "The above boxplot displays the distribution of \"ChgOffPrinGr\" for the non-default (class = 0) and default (class = 1) classes. As expected, the non-default class has no values, and hence no distribution. The distribution for default class has many smaller outliers.\n",
    "\n",
    "Since the distribution of the logarithmically-scaled values of the feature \"ChgOffPrinGr\" appears to be similar to a Gaussian distribution, a T-test can be used as a statistical test to see how siginificant is the difference in the distributions of default and non-default classes. A statistical test for this feature is not really necessary since there is no distribution for the non-default class. As shown below, the distributions of non-default and default classes are different."
   ]
  },
  {
   "cell_type": "code",
   "execution_count": 12,
   "metadata": {},
   "outputs": [
    {
     "name": "stdout",
     "output_type": "stream",
     "text": [
      "stat=-2354.069, p=0.000\n",
      "Different distributions (reject H0)\n"
     ]
    }
   ],
   "source": [
    "# Perform a statistical test\n",
    "a = dfCA[dfCA['Default']==0].ChgOffPrinGr_log\n",
    "b = dfCA[dfCA['Default']==1].ChgOffPrinGr_log\n",
    "stat, p = ttest_ind(a, b)\n",
    "print('stat=%.3f, p=%.3f' % (stat, p))\n",
    "alpha = 0.05\n",
    "if p > alpha:\n",
    "    print('Same distributions (fail to reject H0)')\n",
    "else:\n",
    "    print('Different distributions (reject H0)')"
   ]
  },
  {
   "cell_type": "markdown",
   "metadata": {},
   "source": [
    "**Feature: CreateJob**"
   ]
  },
  {
   "cell_type": "code",
   "execution_count": 14,
   "metadata": {},
   "outputs": [
    {
     "name": "stdout",
     "output_type": "stream",
     "text": [
      "count    130475.000000\n",
      "mean          7.724928\n",
      "std         215.715439\n",
      "min           0.000000\n",
      "25%           0.000000\n",
      "50%           0.000000\n",
      "75%           2.000000\n",
      "max        8800.000000\n",
      "Name: CreateJob, dtype: float64\n"
     ]
    },
    {
     "data": {
      "image/png": "[encoded data removed]",
      "text/plain": [
       "<Figure size 864x360 with 2 Axes>"
      ]
     },
     "metadata": {
      "needs_background": "light"
     },
     "output_type": "display_data"
    },
    {
     "name": "stdout",
     "output_type": "stream",
     "text": [
      "Percentage of zero entries in \"CreateJob\": 66.47%\n"
     ]
    }
   ],
   "source": [
    "# Display statistical information of the feature \"CreateJob\" (number of jobs created)\n",
    "print(dfCA[\"CreateJob\"].describe())\n",
    "\n",
    "# Plot histogram of true vs. log values \n",
    "fig, axes = plt.subplots(nrows=1, ncols=2)\n",
    "plt.rcParams['figure.figsize']=[12,5]\n",
    "dfCA['CreateJob'].plot(kind='hist', bins=30, ax=axes[0])\n",
    "plt.xlabel('Number of jobs created')\n",
    "np.log10(dfCA['CreateJob']+1).plot(kind='hist', bins=30, \n",
    "                                   ax=axes[1]).set_xlabel(\"Log10['CreateJob']\")\n",
    "plt.subplots_adjust(wspace=0.5);\n",
    "plt.show()\n",
    "\n",
    "# Print percentage of zero entries\n",
    "print('Percentage of zero entries in \"CreateJob\": ' \n",
    "      + str(\"{:.2f}\".format((dfCA['CreateJob']==0).mean()*100)) + \"%\")"
   ]
  },
  {
   "cell_type": "markdown",
   "metadata": {},
   "source": [
    "The histogram of the logarithmically-scaled values is less skewed and more informative than the histogram of the original values."
   ]
  },
  {
   "cell_type": "code",
   "execution_count": 16,
   "metadata": {},
   "outputs": [
    {
     "name": "stdout",
     "output_type": "stream",
     "text": [
      "CreateJob:\n",
      "             mean         std\n",
      "Default                      \n",
      "0        7.896380  215.569435\n",
      "1        6.997871  216.336314\n",
      "\n",
      "\n",
      "CreateJob_log:\n",
      "             mean      std\n",
      "Default                   \n",
      "0        0.240530  0.41796\n",
      "1        0.219834  0.33545\n"
     ]
    },
    {
     "data": {
      "image/png": "[encoded data removed]",
      "text/plain": [
       "<Figure size 864x360 with 2 Axes>"
      ]
     },
     "metadata": {
      "needs_background": "light"
     },
     "output_type": "display_data"
    }
   ],
   "source": [
    "# Boxplot of true vs. log values \n",
    "fig, axes = plt.subplots(nrows=1, ncols=2)\n",
    "plt.rcParams['figure.figsize']=[12,5]\n",
    "dfCA.boxplot(column=['CreateJob'], by='Default', ax=axes[0]).set_yscale('log')\n",
    "print(\"CreateJob:\")\n",
    "print(pd.DataFrame(dfCA.groupby(['Default'])['CreateJob'].describe().loc[:,['mean','std']]))\n",
    "print(\"\\n\")\n",
    "\n",
    "dfCA = dfCA.assign(CreateJob_log=pd.Series(np.log10(dfCA['CreateJob'] + 1)))\n",
    "dfCA.boxplot(column=['CreateJob_log'], by='Default', ax=axes[1])\n",
    "plt.subplots_adjust(wspace=0.5);\n",
    "print(\"CreateJob_log:\")\n",
    "print(pd.DataFrame(dfCA.groupby(['Default'])\\\n",
    "                   ['CreateJob_log'].describe().loc[:,['mean','std']]))"
   ]
  },
  {
   "cell_type": "markdown",
   "metadata": {},
   "source": [
    "Since the distribution of the logarithmically-scaled values of \"CreateJob\" is not similar to a Gaussian distribution, a Mann-Whitney U test can be used as a statistical test to see how siginificant is the difference in the distributions of default and non-default classes. As shown below, the distributions of default and non-default classes for the features \"CreateJob\" and \"CreateJob_log\" are different."
   ]
  },
  {
   "cell_type": "code",
   "execution_count": 17,
   "metadata": {},
   "outputs": [
    {
     "name": "stdout",
     "output_type": "stream",
     "text": [
      "True value data: stat=1266635907.500, p=0.000\n",
      "Different distributions (reject H0)\n",
      "\n",
      "Log value data: stat=1266635907.500, p=0.000\n",
      "Different distributions (reject H0)\n",
      "\n"
     ]
    }
   ],
   "source": [
    "# Perform a statistical test\n",
    "a = dfCA[dfCA['Default']==0].CreateJob\n",
    "a_log = dfCA[dfCA['Default']==0].CreateJob_log\n",
    "b = dfCA[dfCA['Default']==1].CreateJob\n",
    "b_log = dfCA[dfCA['Default']==1].CreateJob_log\n",
    "list_a = [a, a_log]\n",
    "list_b = [b, b_log]\n",
    "list_label = [\"True value data\", \"Log value data\"]\n",
    "alpha = 0.05\n",
    "\n",
    "for data1, data2, label in zip(list_a, list_b, list_label):\n",
    "    stat, p = mannwhitneyu(data1, data2)\n",
    "    print('%s: stat=%.3f, p=%.3f' %(label, stat, p))\n",
    "    if p > alpha:\n",
    "        print('Same distributions (fail to reject H0)\\n')\n",
    "    else:\n",
    "        print('Different distributions (reject H0)\\n')"
   ]
  },
  {
   "cell_type": "markdown",
   "metadata": {},
   "source": [
    "**Feature: RetainedJob**"
   ]
  },
  {
   "cell_type": "code",
   "execution_count": 19,
   "metadata": {},
   "outputs": [
    {
     "name": "stdout",
     "output_type": "stream",
     "text": [
      "count    130475.000000\n",
      "mean         11.116367\n",
      "std         217.365729\n",
      "min           0.000000\n",
      "25%           0.000000\n",
      "50%           1.000000\n",
      "75%           5.000000\n",
      "max        8800.000000\n",
      "Name: RetainedJob, dtype: float64\n"
     ]
    },
    {
     "data": {
      "image/png": "[encoded data removed]",
      "text/plain": [
       "<Figure size 864x360 with 2 Axes>"
      ]
     },
     "metadata": {
      "needs_background": "light"
     },
     "output_type": "display_data"
    },
    {
     "name": "stdout",
     "output_type": "stream",
     "text": [
      "Percentage of zero entries in \"RetainedJob\": 43.99%\n"
     ]
    }
   ],
   "source": [
    "# Display statistical information of the feature \"RetainedJob\" (number of jobs retained)\n",
    "print(dfCA[\"RetainedJob\"].describe())\n",
    "\n",
    "# Plot histogram of true vs. log values \n",
    "fig, axes = plt.subplots(nrows=1, ncols=2)\n",
    "plt.rcParams['figure.figsize']=[12,5]\n",
    "dfCA['RetainedJob'].plot(kind='hist', bins=30, ax=axes[0])\n",
    "plt.xlabel('Number of jobs retained')\n",
    "np.log10(dfCA['RetainedJob']+1).plot(kind='hist', bins=30, \n",
    "                                     ax=axes[1]).set_xlabel(\"Log10['RetainedJob']\")\n",
    "plt.subplots_adjust(wspace=0.5);\n",
    "plt.show()\n",
    "\n",
    "# Print percentage of zero entries\n",
    "print('Percentage of zero entries in \"RetainedJob\": ' \n",
    "      + str(\"{:.2f}\".format((dfCA['RetainedJob']==0).mean()*100)) + \"%\")"
   ]
  },
  {
   "cell_type": "code",
   "execution_count": 21,
   "metadata": {},
   "outputs": [
    {
     "name": "stdout",
     "output_type": "stream",
     "text": [
      "RetainedJob:\n",
      "              mean         std\n",
      "Default                       \n",
      "0        11.333895  217.674195\n",
      "1        10.193919  216.054675\n",
      "\n",
      "\n",
      "RetainedJob_log:\n",
      "             mean       std\n",
      "Default                    \n",
      "0        0.420405  0.524825\n",
      "1        0.561582  0.400903\n"
     ]
    },
    {
     "data": {
      "image/png": "[encoded data removed]",
      "text/plain": [
       "<Figure size 864x360 with 2 Axes>"
      ]
     },
     "metadata": {
      "needs_background": "light"
     },
     "output_type": "display_data"
    }
   ],
   "source": [
    "# Boxplot of true vs. log values \n",
    "fig, axes = plt.subplots(nrows=1, ncols=2)\n",
    "plt.rcParams['figure.figsize']=[12,5]\n",
    "dfCA.boxplot(column=['RetainedJob'], by='Default', ax=axes[0]).set_yscale('log')\n",
    "print(\"RetainedJob:\")\n",
    "print(pd.DataFrame(dfCA.groupby(['Default'])['RetainedJob'].describe().loc[:,['mean','std']]))\n",
    "print(\"\\n\")\n",
    "\n",
    "dfCA = dfCA.assign(RetainedJob_log=pd.Series(np.log10(dfCA['RetainedJob'] + 1)))\n",
    "dfCA.boxplot(column=['RetainedJob_log'], by='Default', ax=axes[1])\n",
    "plt.subplots_adjust(wspace=0.5);\n",
    "print(\"RetainedJob_log:\")\n",
    "print(pd.DataFrame(dfCA.groupby(['Default'])\\\n",
    "                   ['RetainedJob_log'].describe().loc[:,['mean','std']]))"
   ]
  },
  {
   "cell_type": "markdown",
   "metadata": {},
   "source": [
    "Since the distribution of the logarithmically-scaled values of \"RetainedJob\" is not similar to a Gaussian distribution, a Mann-Whitney U test is used as a statistical test to see how siginificant is the difference in the distributions of default and non-default classes. As shown below, the distributions of default and non-default classes for the features \"RetainedJob\" and \"RetainedJob_log\" are different."
   ]
  },
  {
   "cell_type": "code",
   "execution_count": 22,
   "metadata": {},
   "outputs": [
    {
     "name": "stdout",
     "output_type": "stream",
     "text": [
      "True value data: stat=999074665.000, p=0.000\n",
      "Different distributions (reject H0)\n",
      "\n",
      "Log value data: stat=999074665.000, p=0.000\n",
      "Different distributions (reject H0)\n",
      "\n"
     ]
    }
   ],
   "source": [
    "# Perform a statistical test\n",
    "a = dfCA[dfCA['Default']==0].RetainedJob\n",
    "a_log = dfCA[dfCA['Default']==0].RetainedJob_log\n",
    "b = dfCA[dfCA['Default']==1].RetainedJob\n",
    "b_log = dfCA[dfCA['Default']==1].RetainedJob_log\n",
    "list_a = [a, a_log]\n",
    "list_b = [b, b_log]\n",
    "list_label = [\"True value data\", \"Log value data\"]\n",
    "alpha = 0.05\n",
    "\n",
    "for data1, data2, label in zip(list_a, list_b, list_label):\n",
    "    stat, p = mannwhitneyu(data1, data2)\n",
    "    print('%s: stat=%.3f, p=%.3f' %(label, stat, p))\n",
    "    if p > alpha:\n",
    "        print('Same distributions (fail to reject H0)\\n')\n",
    "    else:\n",
    "        print('Different distributions (reject H0)\\n')"
   ]
  },
  {
   "cell_type": "markdown",
   "metadata": {},
   "source": [
    "**Feature: NoEmp**"
   ]
  },
  {
   "cell_type": "code",
   "execution_count": 24,
   "metadata": {},
   "outputs": [
    {
     "name": "stdout",
     "output_type": "stream",
     "text": [
      "count    130475.000000\n",
      "mean         13.342180\n",
      "std          72.691541\n",
      "min           0.000000\n",
      "25%           2.000000\n",
      "50%           5.000000\n",
      "75%          12.000000\n",
      "max        9945.000000\n",
      "Name: NoEmp, dtype: float64\n"
     ]
    },
    {
     "data": {
      "image/png": "[encoded data removed]",
      "text/plain": [
       "<Figure size 864x360 with 2 Axes>"
      ]
     },
     "metadata": {
      "needs_background": "light"
     },
     "output_type": "display_data"
    },
    {
     "name": "stdout",
     "output_type": "stream",
     "text": [
      "Percentage of zero entries in \"NoEmp\": 0.34%\n",
      "Number of entries > 1000: 40\n"
     ]
    }
   ],
   "source": [
    "# Display statistical information of the feature \"NoEmp\" (number of business employees)\n",
    "print(dfCA[\"NoEmp\"].describe())\n",
    "\n",
    "# Plot histogram of true vs. log values \n",
    "fig, axes = plt.subplots(nrows=1, ncols=2)\n",
    "plt.rcParams['figure.figsize']=[12,5]\n",
    "dfCA['NoEmp'].plot(kind='hist', bins=30, ax=axes[0])\n",
    "plt.xlabel('Number of employees')\n",
    "np.log10(dfCA['NoEmp']+1).plot(kind='hist', bins=30, ax=axes[1]).set_xlabel(\"Log10['NoEmp']\")\n",
    "plt.subplots_adjust(wspace=0.5);\n",
    "plt.show()\n",
    "\n",
    "# Print percentage of zero entries\n",
    "print('Percentage of zero entries in \"NoEmp\": ' \n",
    "      + str(((dfCA['NoEmp']==0).mean()*100).round(2)) + \"%\")\n",
    "print('Number of entries > 1000: ' + str((dfCA['NoEmp']>1000).sum()))"
   ]
  },
  {
   "cell_type": "code",
   "execution_count": 26,
   "metadata": {},
   "outputs": [
    {
     "name": "stdout",
     "output_type": "stream",
     "text": [
      "NoEmp:\n",
      "              mean        std\n",
      "Default                      \n",
      "0        14.770018  69.531746\n",
      "1         7.287304  84.526498\n",
      "\n",
      "\n",
      "NoEmp_log:\n",
      "             mean       std\n",
      "Default                    \n",
      "0        0.894784  0.445330\n",
      "1        0.680615  0.352191\n"
     ]
    },
    {
     "data": {
      "image/png": "[encoded data removed]",
      "text/plain": [
       "<Figure size 864x360 with 2 Axes>"
      ]
     },
     "metadata": {
      "needs_background": "light"
     },
     "output_type": "display_data"
    }
   ],
   "source": [
    "# Boxplot of true vs. log values \n",
    "fig, axes = plt.subplots(nrows=1, ncols=2)\n",
    "plt.rcParams['figure.figsize']=[12,5]\n",
    "dfCA.boxplot(column=['NoEmp'], by='Default', ax=axes[0]).set_yscale('log')\n",
    "print(\"NoEmp:\")\n",
    "print(pd.DataFrame(dfCA.groupby(['Default'])['NoEmp'].describe().loc[:,['mean','std']]))\n",
    "print(\"\\n\")\n",
    "\n",
    "dfCA = dfCA.assign(NoEmp_log=pd.Series(np.log10(dfCA['NoEmp'] + 1)))\n",
    "dfCA.boxplot(column=['NoEmp_log'], by='Default', ax=axes[1])\n",
    "plt.subplots_adjust(wspace=0.5);\n",
    "print(\"NoEmp_log:\")\n",
    "print(pd.DataFrame(dfCA.groupby(['Default'])['NoEmp_log'].describe().loc[:,['mean','std']]))"
   ]
  },
  {
   "cell_type": "markdown",
   "metadata": {},
   "source": [
    "Since the distribution of the logarithmically-scaled values of \"NoEmp\" is not similar to a Gaussian distribution, a Mann-Whitney U test is used as a statistical test to see how siginificant is the difference in the distributions of default and non-default classes. As shown below, the distributions of default and non-default classes for the features \"NoEmp\" and \"NoEmp_log\" are different."
   ]
  },
  {
   "cell_type": "code",
   "execution_count": 27,
   "metadata": {},
   "outputs": [
    {
     "name": "stdout",
     "output_type": "stream",
     "text": [
      "True value data: stat=939039938.500, p=0.000\n",
      "Different distributions (reject H0)\n",
      "\n",
      "Log value data: stat=939039938.500, p=0.000\n",
      "Different distributions (reject H0)\n",
      "\n"
     ]
    }
   ],
   "source": [
    "# Perform a statistical test\n",
    "a = dfCA[dfCA['Default']==0].NoEmp\n",
    "a_log = dfCA[dfCA['Default']==0].NoEmp_log\n",
    "b = dfCA[dfCA['Default']==1].NoEmp\n",
    "b_log = dfCA[dfCA['Default']==1].NoEmp_log\n",
    "list_a = [a, a_log]\n",
    "list_b = [b, b_log]\n",
    "list_label = [\"True value data\", \"Log value data\"]\n",
    "alpha = 0.05\n",
    "\n",
    "for data1, data2, label in zip(list_a, list_b, list_label):\n",
    "    stat, p = mannwhitneyu(data1, data2)\n",
    "    print('%s: stat=%.3f, p=%.3f' %(label, stat, p))\n",
    "    if p > alpha:\n",
    "        print('Same distributions (fail to reject H0)\\n')\n",
    "    else:\n",
    "        print('Different distributions (reject H0)\\n')"
   ]
  },
  {
   "cell_type": "markdown",
   "metadata": {},
   "source": [
    "**Feature: DisbursementGross**"
   ]
  },
  {
   "cell_type": "code",
   "execution_count": 29,
   "metadata": {},
   "outputs": [
    {
     "name": "stdout",
     "output_type": "stream",
     "text": [
      "count    1.304750e+05\n",
      "mean     2.695557e+05\n",
      "std      3.385755e+05\n",
      "min      2.527000e+03\n",
      "25%      5.000000e+04\n",
      "50%      1.440000e+05\n",
      "75%      3.520000e+05\n",
      "max      5.000000e+06\n",
      "Name: DisbursementGross, dtype: float64\n"
     ]
    },
    {
     "data": {
      "image/png": "[encoded data removed]",
      "text/plain": [
       "<Figure size 864x360 with 2 Axes>"
      ]
     },
     "metadata": {
      "needs_background": "light"
     },
     "output_type": "display_data"
    },
    {
     "name": "stdout",
     "output_type": "stream",
     "text": [
      "Percentage of zero entries in \"DisbursementGross\": 0.0%\n"
     ]
    }
   ],
   "source": [
    "# Display statistical information of the feature \"DisbursementGross\" (amount disbursed)\n",
    "print(dfCA[\"DisbursementGross\"].describe())\n",
    "\n",
    "# Plot histogram of true vs. log values \n",
    "fig, axes = plt.subplots(nrows=1, ncols=2)\n",
    "plt.rcParams['figure.figsize']=[12,5]\n",
    "dfCA['DisbursementGross'].plot(kind='hist', bins=30, ax=axes[0])\n",
    "plt.xlabel('Gross disbursement')\n",
    "np.log10(dfCA['DisbursementGross']+1).plot(kind='hist', bins=30,\n",
    "                                           ax=axes[1]).set_xlabel(\"Log10['DisbursementGross']\")\n",
    "plt.subplots_adjust(wspace=0.5);\n",
    "plt.show()\n",
    "\n",
    "# Print percentage of zero entries\n",
    "print('Percentage of zero entries in \"DisbursementGross\": ' \n",
    "      + str(((dfCA['DisbursementGross']==0).mean()*100).round(2)) + \"%\")"
   ]
  },
  {
   "cell_type": "code",
   "execution_count": 31,
   "metadata": {},
   "outputs": [
    {
     "name": "stdout",
     "output_type": "stream",
     "text": [
      "DisbursementGross:\n",
      "                  mean            std\n",
      "Default                              \n",
      "0        304155.428271  353038.918126\n",
      "1        122832.433024  213570.319691\n",
      "\n",
      "\n",
      "DG_log:\n",
      "             mean       std\n",
      "Default                    \n",
      "0        5.197681  0.551702\n",
      "1        4.746261  0.534209\n"
     ]
    },
    {
     "data": {
      "image/png": "[encoded data removed]",
      "text/plain": [
       "<Figure size 864x360 with 2 Axes>"
      ]
     },
     "metadata": {
      "needs_background": "light"
     },
     "output_type": "display_data"
    }
   ],
   "source": [
    "# Boxplot of true vs. log values\n",
    "fig, axes = plt.subplots(nrows=1, ncols=2)\n",
    "plt.rcParams['figure.figsize']=[12,5]\n",
    "dfCA.boxplot(column=['DisbursementGross'], by='Default', ax=axes[0]).set_yscale('log')\n",
    "print(\"DisbursementGross:\")\n",
    "print(pd.DataFrame(dfCA.groupby(['Default'])['DisbursementGross'].\\\n",
    "                   describe().loc[:,['mean','std']]))\n",
    "print(\"\\n\")\n",
    "\n",
    "dfCA = dfCA.assign(DG_log=pd.Series(np.log10(dfCA['DisbursementGross'] + 1)))\n",
    "dfCA.boxplot(column=['DG_log'], by='Default', ax=axes[1])\n",
    "plt.subplots_adjust(wspace=0.5);\n",
    "print(\"DG_log:\")\n",
    "print(pd.DataFrame(dfCA.groupby(['Default'])['DG_log'].describe().loc[:,['mean','std']]))"
   ]
  },
  {
   "cell_type": "markdown",
   "metadata": {},
   "source": [
    "Since the distribution of the logarithmically-scaled values of the feature \"DisbursementGross\" appears to be similar to a Gaussian distribution, a T-test is used as a statistical test to see how siginificant is the difference in the distributions of default and non-default classes. As shown below, the distributions of non-default and default classes are different."
   ]
  },
  {
   "cell_type": "code",
   "execution_count": 32,
   "metadata": {},
   "outputs": [
    {
     "name": "stdout",
     "output_type": "stream",
     "text": [
      "True value data: stat=77.755, p=0.000\n",
      "Different distributions (reject H0)\n",
      "\n",
      "Log value data: stat=116.835, p=0.000\n",
      "Different distributions (reject H0)\n",
      "\n"
     ]
    }
   ],
   "source": [
    "# Perform a statistical test\n",
    "a = dfCA[dfCA['Default']==0].DisbursementGross\n",
    "a_log = dfCA[dfCA['Default']==0].DG_log\n",
    "b = dfCA[dfCA['Default']==1].DisbursementGross\n",
    "b_log = dfCA[dfCA['Default']==1].DG_log\n",
    "list_a = [a, a_log]\n",
    "list_b = [b, b_log]\n",
    "list_label = [\"True value data\", \"Log value data\"]\n",
    "alpha = 0.05\n",
    "\n",
    "for data1, data2, label in zip(list_a, list_b, list_label):\n",
    "    stat, p = ttest_ind(data1, data2)\n",
    "    print('%s: stat=%.3f, p=%.3f' %(label, stat, p))\n",
    "    if p > alpha:\n",
    "        print('Same distributions (fail to reject H0)\\n')\n",
    "    else:\n",
    "        print('Different distributions (reject H0)\\n')"
   ]
  },
  {
   "cell_type": "markdown",
   "metadata": {},
   "source": [
    "**Feature: GrAppv**"
   ]
  },
  {
   "cell_type": "code",
   "execution_count": 34,
   "metadata": {},
   "outputs": [
    {
     "name": "stdout",
     "output_type": "stream",
     "text": [
      "count    1.304750e+05\n",
      "mean     2.639147e+05\n",
      "std      3.409005e+05\n",
      "min      2.000000e+03\n",
      "25%      5.000000e+04\n",
      "50%      1.300000e+05\n",
      "75%      3.500000e+05\n",
      "max      5.000000e+06\n",
      "Name: GrAppv, dtype: float64\n"
     ]
    },
    {
     "data": {
      "image/png": "[encoded data removed]",
      "text/plain": [
       "<Figure size 864x360 with 2 Axes>"
      ]
     },
     "metadata": {
      "needs_background": "light"
     },
     "output_type": "display_data"
    },
    {
     "name": "stdout",
     "output_type": "stream",
     "text": [
      "Percentage of zero entries in \"GrAppv\": 0.0%\n"
     ]
    }
   ],
   "source": [
    "# Display statistical information of the feature \"GrAppv\"\n",
    "# (Gross amount of loan approved by bank)\n",
    "print(dfCA[\"GrAppv\"].describe())\n",
    "\n",
    "# Plot histogram of true vs. log values \n",
    "fig, axes = plt.subplots(nrows=1, ncols=2)\n",
    "plt.rcParams['figure.figsize']=[12,5]\n",
    "dfCA['GrAppv'].plot(kind='hist', bins=30, ax=axes[0])\n",
    "plt.xlabel('Gross amount approved by bank')\n",
    "np.log10(dfCA['GrAppv']+1).plot(kind='hist', bins=30,\n",
    "                                ax=axes[1]).set_xlabel(\"Log10['GrAppv']\")\n",
    "plt.subplots_adjust(wspace=0.5);\n",
    "plt.show()\n",
    "\n",
    "# Print percentage of zero entries\n",
    "print('Percentage of zero entries in \"GrAppv\": ' \n",
    "      + str(((dfCA['GrAppv']==0).mean()*100).round(2)) + \"%\")"
   ]
  },
  {
   "cell_type": "code",
   "execution_count": 36,
   "metadata": {},
   "outputs": [
    {
     "name": "stdout",
     "output_type": "stream",
     "text": [
      "GrAppv:\n",
      "                  mean            std\n",
      "Default                              \n",
      "0        300275.621218  354721.269868\n",
      "1        109722.827770  214626.646780\n",
      "\n",
      "\n",
      "GrAppv_log:\n",
      "             mean       std\n",
      "Default                    \n",
      "0        5.174073  0.571730\n",
      "1        4.654493  0.539439\n"
     ]
    },
    {
     "data": {
      "image/png": "[encoded data removed]",
      "text/plain": [
       "<Figure size 864x360 with 2 Axes>"
      ]
     },
     "metadata": {
      "needs_background": "light"
     },
     "output_type": "display_data"
    }
   ],
   "source": [
    "# Boxplot of true vs. log values\n",
    "fig, axes = plt.subplots(nrows=1, ncols=2)\n",
    "plt.rcParams['figure.figsize']=[12,5]\n",
    "dfCA.boxplot(column=['GrAppv'], by='Default', ax=axes[0]).set_yscale('log')\n",
    "print(\"GrAppv:\")\n",
    "print(pd.DataFrame(dfCA.groupby(['Default'])['GrAppv'].describe().loc[:,['mean','std']]))\n",
    "print(\"\\n\")\n",
    "\n",
    "dfCA = dfCA.assign(GrAppv_log=pd.Series(np.log10(dfCA['GrAppv'] + 1)))\n",
    "dfCA.boxplot(column=['GrAppv_log'], by='Default', ax=axes[1])\n",
    "plt.subplots_adjust(wspace=0.5);\n",
    "print(\"GrAppv_log:\")\n",
    "print(pd.DataFrame(dfCA.groupby(['Default'])['GrAppv_log'].describe().loc[:,['mean','std']]))"
   ]
  },
  {
   "cell_type": "markdown",
   "metadata": {},
   "source": [
    "Since the distribution of the logarithmically-scaled values of the feature \"GrAppv\" appears to be similar to a Gaussian distribution, a T-test is used as a statistical test to see how siginificant is the difference in the distributions of default and non-default classes. As shown below, the distributions of non-default and default classes are different."
   ]
  },
  {
   "cell_type": "code",
   "execution_count": 37,
   "metadata": {},
   "outputs": [
    {
     "name": "stdout",
     "output_type": "stream",
     "text": [
      "True value data: stat=81.324, p=0.000\n",
      "Different distributions (reject H0)\n",
      "\n",
      "Log value data: stat=130.363, p=0.000\n",
      "Different distributions (reject H0)\n",
      "\n"
     ]
    }
   ],
   "source": [
    "# Perform a statistical test\n",
    "a = dfCA[dfCA['Default']==0].GrAppv\n",
    "a_log = dfCA[dfCA['Default']==0].GrAppv_log\n",
    "b = dfCA[dfCA['Default']==1].GrAppv\n",
    "b_log = dfCA[dfCA['Default']==1].GrAppv_log\n",
    "list_a = [a, a_log]\n",
    "list_b = [b, b_log]\n",
    "list_label = [\"True value data\", \"Log value data\"]\n",
    "alpha = 0.05\n",
    "\n",
    "for data1, data2, label in zip(list_a, list_b, list_label):\n",
    "    stat, p = ttest_ind(data1, data2)\n",
    "    print('%s: stat=%.3f, p=%.3f' %(label, stat, p))\n",
    "    if p > alpha:\n",
    "        print('Same distributions (fail to reject H0)\\n')\n",
    "    else:\n",
    "        print('Different distributions (reject H0)\\n')"
   ]
  },
  {
   "cell_type": "markdown",
   "metadata": {},
   "source": [
    "**Feature: SBA_Appv**"
   ]
  },
  {
   "cell_type": "code",
   "execution_count": 39,
   "metadata": {},
   "outputs": [
    {
     "name": "stdout",
     "output_type": "stream",
     "text": [
      "count    1.304750e+05\n",
      "mean     2.079906e+05\n",
      "std      2.783957e+05\n",
      "min      1.000000e+03\n",
      "25%      2.500000e+04\n",
      "50%      1.000000e+05\n",
      "75%      2.812500e+05\n",
      "max      5.000000e+06\n",
      "Name: SBA_Appv, dtype: float64\n"
     ]
    },
    {
     "data": {
      "image/png": "[encoded data removed]",
      "text/plain": [
       "<Figure size 864x360 with 2 Axes>"
      ]
     },
     "metadata": {
      "needs_background": "light"
     },
     "output_type": "display_data"
    },
    {
     "name": "stdout",
     "output_type": "stream",
     "text": [
      "Percentage of zero entries in \"SBA_Appv\": 0.0%\n"
     ]
    }
   ],
   "source": [
    "# Display statistical information of the feature \"SBA_Appv\"\n",
    "# (SBA’s guaranteed amount of approved loan)\n",
    "print(dfCA[\"SBA_Appv\"].describe())\n",
    "\n",
    "# Plot histogram of true vs. log values \n",
    "fig, axes = plt.subplots(nrows=1, ncols=2)\n",
    "plt.rcParams['figure.figsize']=[12,5]\n",
    "dfCA['SBA_Appv'].plot(kind='hist', bins=30, ax=axes[0])\n",
    "plt.xlabel('Amount guaranteed by SBA')\n",
    "np.log10(dfCA['SBA_Appv']).plot(kind='hist',bins=30,\n",
    "                                ax=axes[1]).set_xlabel(\"Log10['SBA_Appv']\")\n",
    "plt.subplots_adjust(wspace=0.5);\n",
    "plt.show()\n",
    "\n",
    "# Print percentage of zero entries\n",
    "print('Percentage of zero entries in \"SBA_Appv\": ' \n",
    "      + str(((dfCA['SBA_Appv']==0).mean()*100).round(2)) + \"%\")"
   ]
  },
  {
   "cell_type": "code",
   "execution_count": 41,
   "metadata": {},
   "outputs": [
    {
     "name": "stdout",
     "output_type": "stream",
     "text": [
      "SBA_Appv:\n",
      "                  mean            std\n",
      "Default                              \n",
      "0        238851.257042  290978.085831\n",
      "1         77123.304695  161123.355944\n",
      "\n",
      "\n",
      "SBA_Appv_log:\n",
      "             mean       std\n",
      "Default                    \n",
      "0        5.030920  0.631389\n",
      "1        4.439511  0.568752\n"
     ]
    },
    {
     "data": {
      "image/png": "[encoded data removed]",
      "text/plain": [
       "<Figure size 864x360 with 2 Axes>"
      ]
     },
     "metadata": {
      "needs_background": "light"
     },
     "output_type": "display_data"
    }
   ],
   "source": [
    "# Boxplot of true vs. log values\n",
    "fig, axes = plt.subplots(nrows=1, ncols=2)\n",
    "plt.rcParams['figure.figsize']=[12,5]\n",
    "dfCA.boxplot(column=['SBA_Appv'], by='Default', ax=axes[0]).set_yscale('log')\n",
    "print(\"SBA_Appv:\")\n",
    "print(pd.DataFrame(dfCA.groupby(['Default'])['SBA_Appv'].describe().loc[:,['mean','std']]))\n",
    "print(\"\\n\")\n",
    "\n",
    "dfCA = dfCA.assign(SBA_Appv_log=pd.Series(np.log10(dfCA['SBA_Appv'] + 1)))\n",
    "dfCA.boxplot(column=['SBA_Appv_log'], by='Default', ax=axes[1])\n",
    "plt.subplots_adjust(wspace=0.5);\n",
    "print(\"SBA_Appv_log:\")\n",
    "print(pd.DataFrame(dfCA.groupby(['Default'])['SBA_Appv_log'].describe().loc[:,['mean','std']]))"
   ]
  },
  {
   "cell_type": "markdown",
   "metadata": {},
   "source": [
    "Since the distribution of the logarithmically-scaled values of the feature \"SBA_Appv\" appears to be similar to a Gaussian distribution, a T-test is used as a statistical test to see how siginificant is the difference in the distributions of default and non-default classes. As shown below, the distributions of non-default and default classes are different."
   ]
  },
  {
   "cell_type": "code",
   "execution_count": 42,
   "metadata": {},
   "outputs": [
    {
     "name": "stdout",
     "output_type": "stream",
     "text": [
      "True value data: stat=84.691, p=0.000\n",
      "Different distributions (reject H0)\n",
      "\n",
      "Log value data: stat=135.408, p=0.000\n",
      "Different distributions (reject H0)\n",
      "\n"
     ]
    }
   ],
   "source": [
    "# Perform a statistical test\n",
    "a = dfCA[dfCA['Default']==0].SBA_Appv\n",
    "a_log = dfCA[dfCA['Default']==0].SBA_Appv_log\n",
    "b = dfCA[dfCA['Default']==1].SBA_Appv\n",
    "b_log = dfCA[dfCA['Default']==1].SBA_Appv_log\n",
    "list_a = [a, a_log]\n",
    "list_b = [b, b_log]\n",
    "list_label = [\"True value data\", \"Log value data\"]\n",
    "alpha = 0.05\n",
    "\n",
    "for data1, data2, label in zip(list_a, list_b, list_label):\n",
    "    stat, p = ttest_ind(data1, data2)\n",
    "    print('%s: stat=%.3f, p=%.3f' %(label, stat, p))\n",
    "    if p > alpha:\n",
    "        print('Same distributions (fail to reject H0)\\n')\n",
    "    else:\n",
    "        print('Different distributions (reject H0)\\n')"
   ]
  },
  {
   "cell_type": "markdown",
   "metadata": {},
   "source": [
    "**Feature: Term**"
   ]
  },
  {
   "cell_type": "code",
   "execution_count": 44,
   "metadata": {
    "scrolled": false
   },
   "outputs": [
    {
     "name": "stdout",
     "output_type": "stream",
     "text": [
      "count    130475.000000\n",
      "mean        141.755202\n",
      "std          96.894112\n",
      "min           0.000000\n",
      "25%          77.000000\n",
      "50%          96.000000\n",
      "75%         240.000000\n",
      "max         527.000000\n",
      "Name: Term, dtype: float64\n"
     ]
    },
    {
     "data": {
      "image/png": "[encoded data removed]",
      "text/plain": [
       "<Figure size 864x360 with 2 Axes>"
      ]
     },
     "metadata": {
      "needs_background": "light"
     },
     "output_type": "display_data"
    },
    {
     "name": "stdout",
     "output_type": "stream",
     "text": [
      "Percentage of zero entries in \"Term\": 0.08%\n"
     ]
    }
   ],
   "source": [
    "# Display statistical information of the \"Term\" feature (Loan term in months)\n",
    "print(dfCA[\"Term\"].describe())\n",
    "\n",
    "# Plot histogram of true vs. log values \n",
    "fig, axes = plt.subplots(nrows=1, ncols=2)\n",
    "plt.rcParams['figure.figsize']=[12,5]\n",
    "dfCA['Term'].plot(kind='hist', bins=30, ax=axes[0])\n",
    "plt.xlabel('Number of months')\n",
    "np.log10(dfCA['Term']+1).plot(kind='hist', bins=30, ax=axes[1]).set_xlabel(\"Log10['Term']\")\n",
    "plt.subplots_adjust(wspace=0.5);\n",
    "plt.show()\n",
    "\n",
    "# Print percentage of zero entries\n",
    "print('Percentage of zero entries in \"Term\": ' \n",
    "      + str(((dfCA['Term']==0).mean()*100).round(2)) + \"%\")"
   ]
  },
  {
   "cell_type": "markdown",
   "metadata": {},
   "source": [
    "For this dataset, imputing the zero values for the feature \"Term\" with simply the mean or median (or any other) value of \"Term\" would not be the ideal thing to do because the dataset includes information for businesses that cover a wide range in terms of sizes (one employee vs. 1000+ employees), economic sectors, new vs. existing businesses, and urban vs. rural businesses. Since all of these factors play an important role in deciding the loan term for a business, it is challenging to impute the zero values. Therefore, to avoid any major errors, it is best to remove these instances from the dataset."
   ]
  },
  {
   "cell_type": "code",
   "execution_count": 45,
   "metadata": {},
   "outputs": [
    {
     "data": {
      "text/plain": [
       "(130373, 25)"
      ]
     },
     "execution_count": 45,
     "metadata": {},
     "output_type": "execute_result"
    }
   ],
   "source": [
    "# Remove rows with zero values for \"Term\"\n",
    "dfCA.drop(dfCA[dfCA[\"Term\"]==0].index, inplace=True)\n",
    "dfCA.shape"
   ]
  },
  {
   "cell_type": "code",
   "execution_count": 46,
   "metadata": {},
   "outputs": [
    {
     "name": "stdout",
     "output_type": "stream",
     "text": [
      "Number of loan terms < 100 months: 66422\n",
      "Number of loan terms in range [100, 200) months: 22206\n",
      "Number of loan terms in range [200, 300) months: 19635\n",
      "Number of loan terms in range [300, 400) months: 22104\n",
      "Number of loan terms in range [400, 500) months: 5\n",
      "Number of loan terms >= 500 months: 1\n"
     ]
    }
   ],
   "source": [
    "# Compute number of loan terms greater than [100, 200, 300, 400, 500] months\n",
    "# Note: [100, 200, 300, 400, 500] months is about [8, 17, 25, 33, 42] years\n",
    "print(\"Number of loan terms < 100 months: \" + str((dfCA['Term'] < 100).sum()))\n",
    "print(\"Number of loan terms in range [100, 200) months: \" + \n",
    "      str(((dfCA['Term'] >= 100) & (dfCA['Term'] < 200)).sum()))\n",
    "print(\"Number of loan terms in range [200, 300) months: \" + \n",
    "      str(((dfCA['Term'] >= 200) & (dfCA['Term'] < 300)).sum()))\n",
    "print(\"Number of loan terms in range [300, 400) months: \" + \n",
    "      str(((dfCA['Term'] >= 300) & (dfCA['Term'] < 400)).sum()))\n",
    "print(\"Number of loan terms in range [400, 500) months: \" + \n",
    "      str(((dfCA['Term'] >= 400) & (dfCA['Term'] < 500)).sum()))\n",
    "print(\"Number of loan terms >= 500 months: \" + str((dfCA['Term'] >= 500).sum()))"
   ]
  },
  {
   "cell_type": "code",
   "execution_count": 47,
   "metadata": {},
   "outputs": [
    {
     "data": {
      "text/html": [
       "<div>\n",
       "<style scoped>\n",
       "    .dataframe tbody tr th:only-of-type {\n",
       "        vertical-align: middle;\n",
       "    }\n",
       "\n",
       "    .dataframe tbody tr th {\n",
       "        vertical-align: top;\n",
       "    }\n",
       "\n",
       "    .dataframe thead th {\n",
       "        text-align: right;\n",
       "    }\n",
       "</style>\n",
       "<table border=\"1\" class=\"dataframe\">\n",
       "  <thead>\n",
       "    <tr style=\"text-align: right;\">\n",
       "      <th></th>\n",
       "      <th>48386</th>\n",
       "      <th>61080</th>\n",
       "      <th>66171</th>\n",
       "      <th>71396</th>\n",
       "      <th>118249</th>\n",
       "      <th>122782</th>\n",
       "    </tr>\n",
       "  </thead>\n",
       "  <tbody>\n",
       "    <tr>\n",
       "      <th>LoanNr_ChkDgt</th>\n",
       "      <td>3345513009</td>\n",
       "      <td>4131363000</td>\n",
       "      <td>4456093000</td>\n",
       "      <td>4786884000</td>\n",
       "      <td>8748651010</td>\n",
       "      <td>9095743001</td>\n",
       "    </tr>\n",
       "    <tr>\n",
       "      <th>Name</th>\n",
       "      <td>MINO CONSTRUCTION</td>\n",
       "      <td>I-BELLE HAIR SALON (R)</td>\n",
       "      <td>KANGIHNN PAIK, M.D. (R)</td>\n",
       "      <td>PACIFIC SURF PROPERTIES</td>\n",
       "      <td>CHEMICAL PRODUCTS INC</td>\n",
       "      <td>SEQUOIA CLEANING, INC.</td>\n",
       "    </tr>\n",
       "    <tr>\n",
       "      <th>ApprovalDate</th>\n",
       "      <td>30-Nov-88</td>\n",
       "      <td>11-Jun-90</td>\n",
       "      <td>15-May-91</td>\n",
       "      <td>7-Aug-01</td>\n",
       "      <td>29-Sep-78</td>\n",
       "      <td>14-Mar-96</td>\n",
       "    </tr>\n",
       "    <tr>\n",
       "      <th>ApprovalFY</th>\n",
       "      <td>1989</td>\n",
       "      <td>1990</td>\n",
       "      <td>1991</td>\n",
       "      <td>2001</td>\n",
       "      <td>1978</td>\n",
       "      <td>1996</td>\n",
       "    </tr>\n",
       "    <tr>\n",
       "      <th>Term</th>\n",
       "      <td>481</td>\n",
       "      <td>413</td>\n",
       "      <td>414</td>\n",
       "      <td>527</td>\n",
       "      <td>412</td>\n",
       "      <td>429</td>\n",
       "    </tr>\n",
       "    <tr>\n",
       "      <th>NoEmp</th>\n",
       "      <td>5</td>\n",
       "      <td>4</td>\n",
       "      <td>2</td>\n",
       "      <td>6</td>\n",
       "      <td>2</td>\n",
       "      <td>14</td>\n",
       "    </tr>\n",
       "    <tr>\n",
       "      <th>NewExist</th>\n",
       "      <td>1</td>\n",
       "      <td>2</td>\n",
       "      <td>1</td>\n",
       "      <td>1</td>\n",
       "      <td>1</td>\n",
       "      <td>1</td>\n",
       "    </tr>\n",
       "    <tr>\n",
       "      <th>CreateJob</th>\n",
       "      <td>0</td>\n",
       "      <td>0</td>\n",
       "      <td>0</td>\n",
       "      <td>0</td>\n",
       "      <td>0</td>\n",
       "      <td>0</td>\n",
       "    </tr>\n",
       "    <tr>\n",
       "      <th>RetainedJob</th>\n",
       "      <td>0</td>\n",
       "      <td>0</td>\n",
       "      <td>0</td>\n",
       "      <td>0</td>\n",
       "      <td>0</td>\n",
       "      <td>0</td>\n",
       "    </tr>\n",
       "    <tr>\n",
       "      <th>UrbanRural</th>\n",
       "      <td>0</td>\n",
       "      <td>0</td>\n",
       "      <td>0</td>\n",
       "      <td>1</td>\n",
       "      <td>0</td>\n",
       "      <td>0</td>\n",
       "    </tr>\n",
       "    <tr>\n",
       "      <th>ChgOffDate</th>\n",
       "      <td>0</td>\n",
       "      <td>16-Sep-98</td>\n",
       "      <td>0</td>\n",
       "      <td>0</td>\n",
       "      <td>30-Aug-94</td>\n",
       "      <td>0</td>\n",
       "    </tr>\n",
       "    <tr>\n",
       "      <th>DisbursementDate</th>\n",
       "      <td>31-Jan-89</td>\n",
       "      <td>31-Jul-90</td>\n",
       "      <td>31-Jul-91</td>\n",
       "      <td>31-Aug-01</td>\n",
       "      <td>8-Dec-78</td>\n",
       "      <td>30-Sep-96</td>\n",
       "    </tr>\n",
       "    <tr>\n",
       "      <th>DisbursementGross</th>\n",
       "      <td>203000</td>\n",
       "      <td>155000</td>\n",
       "      <td>1.245e+06</td>\n",
       "      <td>1.332e+06</td>\n",
       "      <td>50000</td>\n",
       "      <td>743907</td>\n",
       "    </tr>\n",
       "    <tr>\n",
       "      <th>ChgOffPrinGr</th>\n",
       "      <td>0</td>\n",
       "      <td>73231</td>\n",
       "      <td>0</td>\n",
       "      <td>0</td>\n",
       "      <td>35714</td>\n",
       "      <td>0</td>\n",
       "    </tr>\n",
       "    <tr>\n",
       "      <th>GrAppv</th>\n",
       "      <td>203000</td>\n",
       "      <td>155000</td>\n",
       "      <td>1.245e+06</td>\n",
       "      <td>1.332e+06</td>\n",
       "      <td>50000</td>\n",
       "      <td>1.025e+06</td>\n",
       "    </tr>\n",
       "    <tr>\n",
       "      <th>SBA_Appv</th>\n",
       "      <td>152250</td>\n",
       "      <td>139500</td>\n",
       "      <td>749988</td>\n",
       "      <td>999000</td>\n",
       "      <td>45000</td>\n",
       "      <td>749992</td>\n",
       "    </tr>\n",
       "    <tr>\n",
       "      <th>Sector</th>\n",
       "      <td>0</td>\n",
       "      <td>0</td>\n",
       "      <td>0</td>\n",
       "      <td>72</td>\n",
       "      <td>0</td>\n",
       "      <td>56</td>\n",
       "    </tr>\n",
       "    <tr>\n",
       "      <th>Default</th>\n",
       "      <td>0</td>\n",
       "      <td>1</td>\n",
       "      <td>0</td>\n",
       "      <td>0</td>\n",
       "      <td>1</td>\n",
       "      <td>0</td>\n",
       "    </tr>\n",
       "    <tr>\n",
       "      <th>ChgOffPrinGr_log</th>\n",
       "      <td>0</td>\n",
       "      <td>4.8647</td>\n",
       "      <td>0</td>\n",
       "      <td>0</td>\n",
       "      <td>4.55285</td>\n",
       "      <td>0</td>\n",
       "    </tr>\n",
       "    <tr>\n",
       "      <th>CreateJob_log</th>\n",
       "      <td>0</td>\n",
       "      <td>0</td>\n",
       "      <td>0</td>\n",
       "      <td>0</td>\n",
       "      <td>0</td>\n",
       "      <td>0</td>\n",
       "    </tr>\n",
       "    <tr>\n",
       "      <th>RetainedJob_log</th>\n",
       "      <td>0</td>\n",
       "      <td>0</td>\n",
       "      <td>0</td>\n",
       "      <td>0</td>\n",
       "      <td>0</td>\n",
       "      <td>0</td>\n",
       "    </tr>\n",
       "    <tr>\n",
       "      <th>NoEmp_log</th>\n",
       "      <td>0.778151</td>\n",
       "      <td>0.69897</td>\n",
       "      <td>0.477121</td>\n",
       "      <td>0.845098</td>\n",
       "      <td>0.477121</td>\n",
       "      <td>1.17609</td>\n",
       "    </tr>\n",
       "    <tr>\n",
       "      <th>DG_log</th>\n",
       "      <td>5.3075</td>\n",
       "      <td>5.19033</td>\n",
       "      <td>6.09517</td>\n",
       "      <td>6.1245</td>\n",
       "      <td>4.69898</td>\n",
       "      <td>5.87152</td>\n",
       "    </tr>\n",
       "    <tr>\n",
       "      <th>GrAppv_log</th>\n",
       "      <td>5.3075</td>\n",
       "      <td>5.19033</td>\n",
       "      <td>6.09517</td>\n",
       "      <td>6.1245</td>\n",
       "      <td>4.69898</td>\n",
       "      <td>6.01072</td>\n",
       "    </tr>\n",
       "    <tr>\n",
       "      <th>SBA_Appv_log</th>\n",
       "      <td>5.18256</td>\n",
       "      <td>5.14458</td>\n",
       "      <td>5.87505</td>\n",
       "      <td>5.99957</td>\n",
       "      <td>4.65322</td>\n",
       "      <td>5.87506</td>\n",
       "    </tr>\n",
       "  </tbody>\n",
       "</table>\n",
       "</div>"
      ],
      "text/plain": [
       "                              48386                   61080   \\\n",
       "LoanNr_ChkDgt             3345513009              4131363000   \n",
       "Name               MINO CONSTRUCTION  I-BELLE HAIR SALON (R)   \n",
       "ApprovalDate               30-Nov-88               11-Jun-90   \n",
       "ApprovalFY                      1989                    1990   \n",
       "Term                             481                     413   \n",
       "NoEmp                              5                       4   \n",
       "NewExist                           1                       2   \n",
       "CreateJob                          0                       0   \n",
       "RetainedJob                        0                       0   \n",
       "UrbanRural                         0                       0   \n",
       "ChgOffDate                         0               16-Sep-98   \n",
       "DisbursementDate           31-Jan-89               31-Jul-90   \n",
       "DisbursementGross             203000                  155000   \n",
       "ChgOffPrinGr                       0                   73231   \n",
       "GrAppv                        203000                  155000   \n",
       "SBA_Appv                      152250                  139500   \n",
       "Sector                             0                       0   \n",
       "Default                            0                       1   \n",
       "ChgOffPrinGr_log                   0                  4.8647   \n",
       "CreateJob_log                      0                       0   \n",
       "RetainedJob_log                    0                       0   \n",
       "NoEmp_log                   0.778151                 0.69897   \n",
       "DG_log                        5.3075                 5.19033   \n",
       "GrAppv_log                    5.3075                 5.19033   \n",
       "SBA_Appv_log                 5.18256                 5.14458   \n",
       "\n",
       "                                    66171                    71396   \\\n",
       "LoanNr_ChkDgt                   4456093000               4786884000   \n",
       "Name               KANGIHNN PAIK, M.D. (R)  PACIFIC SURF PROPERTIES   \n",
       "ApprovalDate                     15-May-91                 7-Aug-01   \n",
       "ApprovalFY                            1991                     2001   \n",
       "Term                                   414                      527   \n",
       "NoEmp                                    2                        6   \n",
       "NewExist                                 1                        1   \n",
       "CreateJob                                0                        0   \n",
       "RetainedJob                              0                        0   \n",
       "UrbanRural                               0                        1   \n",
       "ChgOffDate                               0                        0   \n",
       "DisbursementDate                 31-Jul-91                31-Aug-01   \n",
       "DisbursementGross                1.245e+06                1.332e+06   \n",
       "ChgOffPrinGr                             0                        0   \n",
       "GrAppv                           1.245e+06                1.332e+06   \n",
       "SBA_Appv                            749988                   999000   \n",
       "Sector                                   0                       72   \n",
       "Default                                  0                        0   \n",
       "ChgOffPrinGr_log                         0                        0   \n",
       "CreateJob_log                            0                        0   \n",
       "RetainedJob_log                          0                        0   \n",
       "NoEmp_log                         0.477121                 0.845098   \n",
       "DG_log                             6.09517                   6.1245   \n",
       "GrAppv_log                         6.09517                   6.1245   \n",
       "SBA_Appv_log                       5.87505                  5.99957   \n",
       "\n",
       "                                  118249                  122782  \n",
       "LoanNr_ChkDgt                 8748651010              9095743001  \n",
       "Name               CHEMICAL PRODUCTS INC  SEQUOIA CLEANING, INC.  \n",
       "ApprovalDate                   29-Sep-78               14-Mar-96  \n",
       "ApprovalFY                          1978                    1996  \n",
       "Term                                 412                     429  \n",
       "NoEmp                                  2                      14  \n",
       "NewExist                               1                       1  \n",
       "CreateJob                              0                       0  \n",
       "RetainedJob                            0                       0  \n",
       "UrbanRural                             0                       0  \n",
       "ChgOffDate                     30-Aug-94                       0  \n",
       "DisbursementDate                8-Dec-78               30-Sep-96  \n",
       "DisbursementGross                  50000                  743907  \n",
       "ChgOffPrinGr                       35714                       0  \n",
       "GrAppv                             50000               1.025e+06  \n",
       "SBA_Appv                           45000                  749992  \n",
       "Sector                                 0                      56  \n",
       "Default                                1                       0  \n",
       "ChgOffPrinGr_log                 4.55285                       0  \n",
       "CreateJob_log                          0                       0  \n",
       "RetainedJob_log                        0                       0  \n",
       "NoEmp_log                       0.477121                 1.17609  \n",
       "DG_log                           4.69898                 5.87152  \n",
       "GrAppv_log                       4.69898                 6.01072  \n",
       "SBA_Appv_log                     4.65322                 5.87506  "
      ]
     },
     "execution_count": 47,
     "metadata": {},
     "output_type": "execute_result"
    }
   ],
   "source": [
    "# Display instances with loan term >= 400 months\n",
    "dfCA[dfCA[\"Term\"]>=400].T"
   ]
  },
  {
   "cell_type": "markdown",
   "metadata": {},
   "source": [
    "As mentioned in the \"StepOne_DataWrangling\" notebook and the article cited therein, since the term of the loan is a function of the expected lifetime of the assets, loans backed by real estate will have terms 20 years or greater (>240 months) and are the only loans granted for such a long term. This is because a loan backed by real estate (possession of land) has a lower probability of default, since the value of the land is often large enough to cover the amount of any principal outstanding.\n",
    "\n",
    "As displayed above, there are 6 instances with a loan term of >= 400 months. While it is possible for some of these businesses, for example, Mino Constructon and Pacific Surf Properties, to have such big loan terms, it is not likely for the others. Since it is uncertain that these values are correct, and given that these instances are outliers in terms of the feature \"Term\", they are removed from the dataset."
   ]
  },
  {
   "cell_type": "code",
   "execution_count": 48,
   "metadata": {},
   "outputs": [
    {
     "data": {
      "text/plain": [
       "(130367, 25)"
      ]
     },
     "execution_count": 48,
     "metadata": {},
     "output_type": "execute_result"
    }
   ],
   "source": [
    "# Remove instances with loan term >= 400 months\n",
    "dfCA.drop(dfCA[dfCA[\"Term\"]>400].index, inplace=True)\n",
    "\n",
    "# Check shape of dataframe\n",
    "dfCA.shape"
   ]
  },
  {
   "cell_type": "code",
   "execution_count": 50,
   "metadata": {},
   "outputs": [
    {
     "name": "stdout",
     "output_type": "stream",
     "text": [
      "count    130367.000000\n",
      "mean        141.852110\n",
      "std          96.830614\n",
      "min           1.000000\n",
      "25%          77.000000\n",
      "50%          96.000000\n",
      "75%         240.000000\n",
      "max         385.000000\n",
      "Name: Term, dtype: float64\n"
     ]
    },
    {
     "data": {
      "image/png": "[encoded data removed]",
      "text/plain": [
       "<Figure size 864x360 with 2 Axes>"
      ]
     },
     "metadata": {
      "needs_background": "light"
     },
     "output_type": "display_data"
    },
    {
     "name": "stdout",
     "output_type": "stream",
     "text": [
      "Percentage of zero entries in \"Term\": 0.0%\n"
     ]
    }
   ],
   "source": [
    "# Display statistical information of the feature \"Term\" (loan term in months)\n",
    "print(dfCA[\"Term\"].describe())\n",
    "\n",
    "# Plot histogram of true vs. log values \n",
    "fig, axes = plt.subplots(nrows=1, ncols=2)\n",
    "plt.rcParams['figure.figsize']=[12,5]\n",
    "dfCA['Term'].plot(kind='hist', bins=30, ax=axes[0])\n",
    "plt.xlabel('Number of months')\n",
    "np.log10(dfCA['Term']+1).plot(kind='hist', bins=30, ax=axes[1]).set_xlabel(\"Log10['Term']\")\n",
    "plt.subplots_adjust(wspace=0.5);\n",
    "plt.show()\n",
    "\n",
    "# Print percentage of zero entries\n",
    "print('Percentage of zero entries in \"Term\": ' \n",
    "      + str(((dfCA['Term']==0).mean()*100).round(2)) + \"%\")"
   ]
  },
  {
   "cell_type": "code",
   "execution_count": 52,
   "metadata": {},
   "outputs": [
    {
     "name": "stdout",
     "output_type": "stream",
     "text": [
      "Term:\n",
      "               mean        std\n",
      "Default                       \n",
      "0        161.761135  95.056969\n",
      "1         57.092027  44.197580\n",
      "\n",
      "\n",
      "Term_log:\n",
      "             mean       std\n",
      "Default                    \n",
      "0        2.121713  0.304373\n",
      "1        1.645960  0.359923\n"
     ]
    },
    {
     "data": {
      "image/png": "[encoded data removed]",
      "text/plain": [
       "<Figure size 864x360 with 2 Axes>"
      ]
     },
     "metadata": {
      "needs_background": "light"
     },
     "output_type": "display_data"
    }
   ],
   "source": [
    "# Boxplot of true vs. log values \n",
    "fig, axes = plt.subplots(nrows=1, ncols=2)\n",
    "plt.rcParams['figure.figsize']=[12,5]\n",
    "dfCA.boxplot(column=['Term'], by='Default', ax=axes[0])\n",
    "print(\"Term:\")\n",
    "print(pd.DataFrame(dfCA.groupby(['Default'])['Term'].describe().loc[:,['mean','std']]))\n",
    "print(\"\\n\")\n",
    "\n",
    "dfCA = dfCA.assign(Term_log=pd.Series(np.log10(dfCA['Term'] + 1)))\n",
    "dfCA.boxplot(column=['Term_log'], by='Default', ax=axes[1])\n",
    "plt.subplots_adjust(wspace=0.5);\n",
    "print(\"Term_log:\")\n",
    "print(pd.DataFrame(dfCA.groupby(['Default'])['Term_log'].describe().loc[:,['mean','std']]))"
   ]
  },
  {
   "cell_type": "markdown",
   "metadata": {},
   "source": [
    "Since the distribution of the original and logarithmically-scaled values of \"Term\" is not similar to a Gaussian distribution, a Mann-Whitney U test is used as a statistical test to see how siginificant is the difference in the distributions of default and non-default classes. As shown below, the distributions of default and non-default classes for the features \"Term\" and \"Term_log\" are different."
   ]
  },
  {
   "cell_type": "code",
   "execution_count": 53,
   "metadata": {},
   "outputs": [
    {
     "name": "stdout",
     "output_type": "stream",
     "text": [
      "True value data: stat=304524317.500, p=0.000\n",
      "Different distributions (reject H0)\n",
      "\n",
      "Log value data: stat=304524317.500, p=0.000\n",
      "Different distributions (reject H0)\n",
      "\n"
     ]
    }
   ],
   "source": [
    "# Perform a statistical test\n",
    "a = dfCA[dfCA['Default']==0].Term\n",
    "a_log = dfCA[dfCA['Default']==0].Term_log\n",
    "b = dfCA[dfCA['Default']==1].Term\n",
    "b_log = dfCA[dfCA['Default']==1].Term_log\n",
    "list_a = [a, a_log]\n",
    "list_b = [b, b_log]\n",
    "list_label = [\"True value data\", \"Log value data\"]\n",
    "alpha = 0.05\n",
    "\n",
    "for data1, data2, label in zip(list_a, list_b, list_label):\n",
    "    stat, p = mannwhitneyu(data1, data2)\n",
    "    print('%s: stat=%.3f, p=%.3f' %(label, stat, p))\n",
    "    if p > alpha:\n",
    "        print('Same distributions (fail to reject H0)\\n')\n",
    "    else:\n",
    "        print('Different distributions (reject H0)\\n')"
   ]
  },
  {
   "cell_type": "markdown",
   "metadata": {},
   "source": [
    "**Feature: NewExist**"
   ]
  },
  {
   "cell_type": "code",
   "execution_count": 54,
   "metadata": {},
   "outputs": [
    {
     "name": "stdout",
     "output_type": "stream",
     "text": [
      "1    108737\n",
      "2     21518\n",
      "0       112\n",
      "Name: NewExist, dtype: int64\n",
      "Percentage of zero entries in \"NewExist\": 0.09%\n"
     ]
    }
   ],
   "source": [
    "# Display statistical information of the feature \"NewExist\"\n",
    "# Existing business = 1, New business = 2\n",
    "print(dfCA[\"NewExist\"].value_counts())\n",
    "\n",
    "# Print percentage of zero entries\n",
    "print('Percentage of zero entries in \"NewExist\": ' + \n",
    "      str(((dfCA['NewExist']==0).mean()*100).round(2)) + \"%\")"
   ]
  },
  {
   "cell_type": "markdown",
   "metadata": {},
   "source": [
    "For categorical features/variables such as \"NewExist\", \"UrbanRural\", and \"Sector\", the chi-squared test is used as a statistical test for independence between categorical variables, i.e., the test is used to determine whether the output/target variable is dependent or independent of the input variables. If independent, then the input variable may be irrelevant to the problem and may be removed from the dataset.\n",
    "\n",
    "The null hypothesis of the chi-squared test is that no relationship exists between the categorical variables; they are independent. As shown below, the categorical features \"NewExist\" and \"Default\" (the target feature) are probably dependent."
   ]
  },
  {
   "cell_type": "code",
   "execution_count": 55,
   "metadata": {},
   "outputs": [
    {
     "name": "stdout",
     "output_type": "stream",
     "text": [
      "Contingency table:\n"
     ]
    },
    {
     "data": {
      "text/html": [
       "<div>\n",
       "<style scoped>\n",
       "    .dataframe tbody tr th:only-of-type {\n",
       "        vertical-align: middle;\n",
       "    }\n",
       "\n",
       "    .dataframe tbody tr th {\n",
       "        vertical-align: top;\n",
       "    }\n",
       "\n",
       "    .dataframe thead th {\n",
       "        text-align: right;\n",
       "    }\n",
       "</style>\n",
       "<table border=\"1\" class=\"dataframe\">\n",
       "  <thead>\n",
       "    <tr style=\"text-align: right;\">\n",
       "      <th>Default</th>\n",
       "      <th>0</th>\n",
       "      <th>1</th>\n",
       "    </tr>\n",
       "    <tr>\n",
       "      <th>NewExist</th>\n",
       "      <th></th>\n",
       "      <th></th>\n",
       "    </tr>\n",
       "  </thead>\n",
       "  <tbody>\n",
       "    <tr>\n",
       "      <th>0</th>\n",
       "      <td>107</td>\n",
       "      <td>5</td>\n",
       "    </tr>\n",
       "    <tr>\n",
       "      <th>1</th>\n",
       "      <td>89207</td>\n",
       "      <td>19530</td>\n",
       "    </tr>\n",
       "    <tr>\n",
       "      <th>2</th>\n",
       "      <td>16256</td>\n",
       "      <td>5262</td>\n",
       "    </tr>\n",
       "  </tbody>\n",
       "</table>\n",
       "</div>"
      ],
      "text/plain": [
       "Default       0      1\n",
       "NewExist              \n",
       "0           107      5\n",
       "1         89207  19530\n",
       "2         16256   5262"
      ]
     },
     "metadata": {},
     "output_type": "display_data"
    },
    {
     "name": "stdout",
     "output_type": "stream",
     "text": [
      "stat=507.115 , p=0.000\n",
      "Probably dependent \n",
      "\n"
     ]
    }
   ],
   "source": [
    "# Create a contingency table for the \"NewExist\" feature\n",
    "contingency_ne = pd.crosstab(dfCA[\"NewExist\"], dfCA[\"Default\"])\n",
    "print(\"Contingency table:\")\n",
    "display(contingency_ne)\n",
    "\n",
    "# Perform chi-squared statistical test for \"NewExist\"\n",
    "stat, p, dof, expected = chi2_contingency(contingency_ne)\n",
    "alpha = 0.05\n",
    "print('stat=%.3f , p=%.3f' %(stat, p))\n",
    "if p > alpha:\n",
    "    print('Probably independent \\n')\n",
    "else:\n",
    "    print('Probably dependent \\n')"
   ]
  },
  {
   "cell_type": "markdown",
   "metadata": {},
   "source": [
    "**Feature: UrbanRural**"
   ]
  },
  {
   "cell_type": "code",
   "execution_count": 56,
   "metadata": {},
   "outputs": [
    {
     "name": "stdout",
     "output_type": "stream",
     "text": [
      "1    77324\n",
      "0    47514\n",
      "2     5529\n",
      "Name: UrbanRural, dtype: int64\n",
      "Percentage of zero entries in \"UrbanRural\": 36.45%\n"
     ]
    }
   ],
   "source": [
    "# Display statistical information of the \"UrbanRural\" feature\n",
    "# Undefined = 0, Urban = 1, Rural = 2\n",
    "print(dfCA[\"UrbanRural\"].value_counts())\n",
    "print('Percentage of zero entries in \"UrbanRural\": ' + \n",
    "      str(((dfCA['UrbanRural']==0).mean()*100).round(2)) + \"%\")"
   ]
  },
  {
   "cell_type": "markdown",
   "metadata": {},
   "source": [
    "As shown below, the categorical features \"UrbanRural\" and \"Default\" (the target feature) are probably dependent."
   ]
  },
  {
   "cell_type": "code",
   "execution_count": 57,
   "metadata": {},
   "outputs": [
    {
     "name": "stdout",
     "output_type": "stream",
     "text": [
      "Contingency table:\n"
     ]
    },
    {
     "data": {
      "text/html": [
       "<div>\n",
       "<style scoped>\n",
       "    .dataframe tbody tr th:only-of-type {\n",
       "        vertical-align: middle;\n",
       "    }\n",
       "\n",
       "    .dataframe tbody tr th {\n",
       "        vertical-align: top;\n",
       "    }\n",
       "\n",
       "    .dataframe thead th {\n",
       "        text-align: right;\n",
       "    }\n",
       "</style>\n",
       "<table border=\"1\" class=\"dataframe\">\n",
       "  <thead>\n",
       "    <tr style=\"text-align: right;\">\n",
       "      <th>Default</th>\n",
       "      <th>0</th>\n",
       "      <th>1</th>\n",
       "    </tr>\n",
       "    <tr>\n",
       "      <th>UrbanRural</th>\n",
       "      <th></th>\n",
       "      <th></th>\n",
       "    </tr>\n",
       "  </thead>\n",
       "  <tbody>\n",
       "    <tr>\n",
       "      <th>0</th>\n",
       "      <td>44841</td>\n",
       "      <td>2673</td>\n",
       "    </tr>\n",
       "    <tr>\n",
       "      <th>1</th>\n",
       "      <td>56760</td>\n",
       "      <td>20564</td>\n",
       "    </tr>\n",
       "    <tr>\n",
       "      <th>2</th>\n",
       "      <td>3969</td>\n",
       "      <td>1560</td>\n",
       "    </tr>\n",
       "  </tbody>\n",
       "</table>\n",
       "</div>"
      ],
      "text/plain": [
       "Default         0      1\n",
       "UrbanRural              \n",
       "0           44841   2673\n",
       "1           56760  20564\n",
       "2            3969   1560"
      ]
     },
     "metadata": {},
     "output_type": "display_data"
    },
    {
     "name": "stdout",
     "output_type": "stream",
     "text": [
      "stat=8717.941 , p=0.000\n",
      "Probably dependent \n",
      "\n"
     ]
    }
   ],
   "source": [
    "# Create a contingency table for the \"UrbanRural\" feature\n",
    "contingency_ur = pd.crosstab(dfCA[\"UrbanRural\"], dfCA[\"Default\"])\n",
    "print(\"Contingency table:\")\n",
    "display(contingency_ur)\n",
    "\n",
    "# Perform chi-squared statistical test for \"UrbanRural\"\n",
    "stat, p, dof, expected = chi2_contingency(contingency_ur)\n",
    "alpha = 0.05\n",
    "print('stat=%.3f , p=%.3f' %(stat, p))\n",
    "if p > alpha:\n",
    "    print('Probably independent \\n')\n",
    "else:\n",
    "    print('Probably dependent \\n')"
   ]
  },
  {
   "cell_type": "markdown",
   "metadata": {},
   "source": [
    "**Feature: Sector**"
   ]
  },
  {
   "cell_type": "markdown",
   "metadata": {},
   "source": [
    "The plot below shows the number of loans for each sector. As seen previously, the top five sectors with most instances are: Retail trade (44), Wholesale trade (42), Professional, scientific, and technical services (54), Other services (except public administration) (81), and Accommodation and food services (72). "
   ]
  },
  {
   "cell_type": "code",
   "execution_count": 59,
   "metadata": {},
   "outputs": [
    {
     "data": {
      "image/png": "[encoded data removed]",
      "text/plain": [
       "<Figure size 576x432 with 1 Axes>"
      ]
     },
     "metadata": {
      "needs_background": "light"
     },
     "output_type": "display_data"
    }
   ],
   "source": [
    "# Plot default values for each sector excluding zero entries for \"Sector\"\n",
    "plt.rcParams['figure.figsize']=[8,6]\n",
    "dfCA.groupby(\"Sector\")[\"Default\"].value_counts().unstack(\n",
    "    level=-1)[1:].plot(kind=\"bar\",stacked=True);"
   ]
  },
  {
   "cell_type": "markdown",
   "metadata": {},
   "source": [
    "As shown below, the categorical features \"Sector\" and \"Default\" (the target feature) are probably dependent."
   ]
  },
  {
   "cell_type": "code",
   "execution_count": 60,
   "metadata": {},
   "outputs": [
    {
     "name": "stdout",
     "output_type": "stream",
     "text": [
      "stat=6070.480 , p=0.000\n",
      "Probably dependent \n",
      "\n"
     ]
    }
   ],
   "source": [
    "# Create a contingency table for the \"Sector\" feature\n",
    "contingency_sector = pd.crosstab(dfCA[\"Sector\"], dfCA[\"Default\"])\n",
    "\n",
    "# Perform chi-squared statistical test for \"Sector\"\n",
    "stat, p, dof, expected = chi2_contingency(contingency_sector)\n",
    "alpha = 0.05\n",
    "print('stat=%.3f , p=%.3f' %(stat, p))\n",
    "if p > alpha:\n",
    "    print('Probably independent \\n')\n",
    "else:\n",
    "    print('Probably dependent \\n')"
   ]
  },
  {
   "cell_type": "code",
   "execution_count": 61,
   "metadata": {},
   "outputs": [
    {
     "data": {
      "text/html": [
       "<div>\n",
       "<style scoped>\n",
       "    .dataframe tbody tr th:only-of-type {\n",
       "        vertical-align: middle;\n",
       "    }\n",
       "\n",
       "    .dataframe tbody tr th {\n",
       "        vertical-align: top;\n",
       "    }\n",
       "\n",
       "    .dataframe thead th {\n",
       "        text-align: right;\n",
       "    }\n",
       "</style>\n",
       "<table border=\"1\" class=\"dataframe\">\n",
       "  <thead>\n",
       "    <tr style=\"text-align: right;\">\n",
       "      <th></th>\n",
       "      <th>NoEmp</th>\n",
       "      <th>NewExist</th>\n",
       "      <th>UrbanRural</th>\n",
       "      <th>Sector</th>\n",
       "    </tr>\n",
       "  </thead>\n",
       "  <tbody>\n",
       "    <tr>\n",
       "      <th>Number of zeros</th>\n",
       "      <td>449</td>\n",
       "      <td>112</td>\n",
       "      <td>47514</td>\n",
       "      <td>28662</td>\n",
       "    </tr>\n",
       "    <tr>\n",
       "      <th>Default 0</th>\n",
       "      <td>201</td>\n",
       "      <td>107</td>\n",
       "      <td>44841</td>\n",
       "      <td>27043</td>\n",
       "    </tr>\n",
       "    <tr>\n",
       "      <th>Default 1</th>\n",
       "      <td>248</td>\n",
       "      <td>5</td>\n",
       "      <td>2673</td>\n",
       "      <td>1619</td>\n",
       "    </tr>\n",
       "  </tbody>\n",
       "</table>\n",
       "</div>"
      ],
      "text/plain": [
       "                NoEmp NewExist UrbanRural Sector\n",
       "Number of zeros   449      112      47514  28662\n",
       "Default 0         201      107      44841  27043\n",
       "Default 1         248        5       2673   1619"
      ]
     },
     "execution_count": 61,
     "metadata": {},
     "output_type": "execute_result"
    }
   ],
   "source": [
    "# Create a dataframe for features with remaining zero entries\n",
    "data_zeros = []\n",
    "features = ['NoEmp', 'NewExist', 'UrbanRural', 'Sector']\n",
    "df_zeros_index = ['Number of zeros', 'Default 0', 'Default 1']\n",
    "df_zeros = pd.DataFrame(data_zeros, columns=features, index=df_zeros_index)\n",
    "\n",
    "def count_zeros(df, features):\n",
    "    for feature in features:\n",
    "        df_zeros.loc['Number of zeros', feature] = (df[feature]==0).sum()\n",
    "        df_zeros.loc['Default 0', feature] = ((df[feature]==0) & (df['Default']==0)).sum()\n",
    "        df_zeros.loc['Default 1', feature] = ((df[feature]==0) & (df['Default']==1)).sum()\n",
    "        \n",
    "    return df_zeros\n",
    "\n",
    "count_zeros(dfCA, features)"
   ]
  },
  {
   "cell_type": "markdown",
   "metadata": {},
   "source": [
    "Selecting random values or mean/median values to impute zero values is not ideal for the given dataset because of the wide variety in the types of businesses included in the dataset. The zero values for the feature \"NoEmp\" might be because the business is owned by a single person, and hence number of (additional) employees is zero. The zero values in the categorical features \"NewExist\", \"UrbanRural\", and \"Sector\" can be thought of as another (\"undefined\") category for each feature. These features shall be dealt with in the notebook \"StepThree_Training_Modeling\"."
   ]
  },
  {
   "cell_type": "code",
   "execution_count": 62,
   "metadata": {},
   "outputs": [
    {
     "data": {
      "text/plain": [
       "(130367, 26)"
      ]
     },
     "execution_count": 62,
     "metadata": {},
     "output_type": "execute_result"
    }
   ],
   "source": [
    "# Check shape of dataframe\n",
    "dfCA.shape"
   ]
  },
  {
   "cell_type": "markdown",
   "metadata": {},
   "source": [
    "### 3.3 Save data<a id='3.3_Save_data'></a>"
   ]
  },
  {
   "cell_type": "code",
   "execution_count": 63,
   "metadata": {},
   "outputs": [],
   "source": [
    "# Save data for training and modeling\n",
    "datapath = '../data_models'\n",
    "if not os.path.exists(datapath):\n",
    "    os.mkdir(datapath)\n",
    "\n",
    "datapath_loanapprdata = os.path.join(datapath, 'SBAnational_CA_features.csv')\n",
    "dfCA.to_csv(datapath_loanapprdata, index=False)"
   ]
  },
  {
   "cell_type": "markdown",
   "metadata": {},
   "source": [
    "## 4 Summary<a id='4_Summary'></a>"
   ]
  },
  {
   "cell_type": "markdown",
   "metadata": {},
   "source": [
    "The exploratory data analysis of the dataset helps in analyzing the dataset in more detail. Plotting histograms of the numeric features gives insights into the distributions of each feature, and reveals any (obvious) outliers. A boxplot for the default and non-default classes for each feature shows the range of values of the two classes for that feature. A corresponding statistical test helps in determining how siginificant is the difference in the distributions of default and non-default classes. The statistical tests also help in getting an overview of the more important and less important features.\n",
    "\n",
    "Logarithmic scaling is used to scale numeric input features that have skewed distributions. The statistical tests show that (probably) all input features - numeric and categorical - are important features in making predictions about whether a loan would be defaulted or paid in full. Some extreme outliers are removed from the feature \"Term\". This results in a dataset with 130367 instances and 26 features. The additional features are a result of the logarithmic values generated for some of the features. The final clean dataset is saved as \"SBAnational_CA_features.csv\". The features and their contributions in making predictions using various machine learning models are investigated in the notebook \"StepThree_Training_Modeling\"."
   ]
  },
  {
   "cell_type": "code",
   "execution_count": null,
   "metadata": {},
   "outputs": [],
   "source": []
  }
 ],
 "metadata": {
  "kernelspec": {
   "display_name": "Python 3",
   "language": "python",
   "name": "python3"
  },
  "language_info": {
   "codemirror_mode": {
    "name": "ipython",
    "version": 3
   },
   "file_extension": ".py",
   "mimetype": "text/x-python",
   "name": "python",
   "nbconvert_exporter": "python",
   "pygments_lexer": "ipython3",
   "version": "3.8.3"
  }
 },
 "nbformat": 4,
 "nbformat_minor": 4
}
